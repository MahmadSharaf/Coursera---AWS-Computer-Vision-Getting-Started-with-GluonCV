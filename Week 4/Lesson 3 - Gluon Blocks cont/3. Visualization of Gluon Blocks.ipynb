{
 "metadata": {
  "language_info": {
   "codemirror_mode": {
    "name": "ipython",
    "version": 3
   },
   "file_extension": ".py",
   "mimetype": "text/x-python",
   "name": "python",
   "nbconvert_exporter": "python",
   "pygments_lexer": "ipython3",
   "version": "3.8.3-final"
  },
  "orig_nbformat": 2,
  "kernelspec": {
   "name": "Python 3.8.3 64-bit ('MXNet-GluonCV')",
   "display_name": "Python 3.8.3 64-bit ('MXNet-GluonCV')",
   "metadata": {
    "interpreter": {
     "hash": "259aea3829f4adc8b9ea6739d853c3156d84ae46eaaaead38c32ebf6a00a2183"
    }
   }
  }
 },
 "nbformat": 4,
 "nbformat_minor": 2,
 "cells": [
  {
   "cell_type": "code",
   "execution_count": 2,
   "metadata": {},
   "outputs": [],
   "source": [
    "import mxnet as mx\n",
    "from mxnet import nd, viz # mxnet.viz contains functions that help visualizing neural networks. \n",
    "from mxnet.gluon import nn, model_zoo # model_zoo contains a lot of pre-trained models and architectures to be used out of the box."
   ]
  },
  {
   "source": [
    "From Model Zoo import VGG11 network. VGG stands for visual geometry group. This group from Oxford university originally came up with a model architecture. This model is a fairly straightforward network alternating convolutional layer, max pooling layers and concluding with several fully connected layers."
   ],
   "cell_type": "markdown",
   "metadata": {}
  },
  {
   "cell_type": "code",
   "execution_count": 3,
   "metadata": {},
   "outputs": [
    {
     "output_type": "stream",
     "name": "stdout",
     "text": [
      "Downloading C:\\Users\\Mohamed.Sharaf\\AppData\\Roaming\\mxnet\\models\\vgg11-dd221b16.zip3edab37b-6154-43e0-8a56-8462de92110f from https://apache-mxnet.s3-accelerate.dualstack.amazonaws.com/gluon/models/vgg11-dd221b16.zip...\n"
     ]
    }
   ],
   "source": [
    "# From model zoo\n",
    "vgg11 = model_zoo.vision.vgg11(pretrained=True)"
   ]
  },
  {
   "source": [
    "The first way to visualize or inspect the network is to simply print the gluon block using the print function. This will give a list of all those different blocks and children blocks containing the parent block."
   ],
   "cell_type": "markdown",
   "metadata": {}
  },
  {
   "cell_type": "code",
   "execution_count": 4,
   "metadata": {},
   "outputs": [
    {
     "output_type": "stream",
     "name": "stdout",
     "text": [
      "VGG(\n  (features): HybridSequential(\n    (0): Conv2D(3 -> 64, kernel_size=(3, 3), stride=(1, 1), padding=(1, 1))\n    (1): Activation(relu)\n    (2): MaxPool2D(size=(2, 2), stride=(2, 2), padding=(0, 0), ceil_mode=False, global_pool=False, pool_type=max, layout=NCHW)\n    (3): Conv2D(64 -> 128, kernel_size=(3, 3), stride=(1, 1), padding=(1, 1))\n    (4): Activation(relu)\n    (5): MaxPool2D(size=(2, 2), stride=(2, 2), padding=(0, 0), ceil_mode=False, global_pool=False, pool_type=max, layout=NCHW)\n    (6): Conv2D(128 -> 256, kernel_size=(3, 3), stride=(1, 1), padding=(1, 1))\n    (7): Activation(relu)\n    (8): Conv2D(256 -> 256, kernel_size=(3, 3), stride=(1, 1), padding=(1, 1))\n    (9): Activation(relu)\n    (10): MaxPool2D(size=(2, 2), stride=(2, 2), padding=(0, 0), ceil_mode=False, global_pool=False, pool_type=max, layout=NCHW)\n    (11): Conv2D(256 -> 512, kernel_size=(3, 3), stride=(1, 1), padding=(1, 1))\n    (12): Activation(relu)\n    (13): Conv2D(512 -> 512, kernel_size=(3, 3), stride=(1, 1), padding=(1, 1))\n    (14): Activation(relu)\n    (15): MaxPool2D(size=(2, 2), stride=(2, 2), padding=(0, 0), ceil_mode=False, global_pool=False, pool_type=max, layout=NCHW)\n    (16): Conv2D(512 -> 512, kernel_size=(3, 3), stride=(1, 1), padding=(1, 1))\n    (17): Activation(relu)\n    (18): Conv2D(512 -> 512, kernel_size=(3, 3), stride=(1, 1), padding=(1, 1))\n    (19): Activation(relu)\n    (20): MaxPool2D(size=(2, 2), stride=(2, 2), padding=(0, 0), ceil_mode=False, global_pool=False, pool_type=max, layout=NCHW)\n    (21): Dense(25088 -> 4096, Activation(relu))\n    (22): Dropout(p = 0.5, axes=())\n    (23): Dense(4096 -> 4096, Activation(relu))\n    (24): Dropout(p = 0.5, axes=())\n  )\n  (output): Dense(4096 -> 1000, linear)\n)\n"
     ]
    }
   ],
   "source": [
    "print(vgg11)"
   ]
  },
  {
   "source": [
    "We can see here two main blocks. One is a features block and the other one is the outputs block. The visualization here is\n",
    "purely based on the static analysis of the attribute of the object hence it does not contain any flow information. We only know that the features block is a hybrid sequential block, and that the output block is a fully connected layer with a 1000 units.\n",
    "\n",
    "The forward function of the block defines how the data flows through it."
   ],
   "cell_type": "markdown",
   "metadata": {}
  },
  {
   "source": [
    "By calling the `.summary` function on the block with a dummy representative input data, the network is able to compute the shapes of each intermediate layer and the numbers of parameters at the entire network has."
   ],
   "cell_type": "markdown",
   "metadata": {}
  },
  {
   "cell_type": "code",
   "execution_count": 5,
   "metadata": {},
   "outputs": [
    {
     "output_type": "stream",
     "name": "stdout",
     "text": [
      "--------------------------------------------------------------------------------\n        Layer (type)                                Output Shape         Param #\n================================================================================\n               Input                            (1, 3, 224, 224)               0\n            Conv2D-1                           (1, 64, 224, 224)            1792\n        Activation-2                           (1, 64, 224, 224)               0\n         MaxPool2D-3                           (1, 64, 112, 112)               0\n            Conv2D-4                          (1, 128, 112, 112)           73856\n        Activation-5                          (1, 128, 112, 112)               0\n         MaxPool2D-6                            (1, 128, 56, 56)               0\n            Conv2D-7                            (1, 256, 56, 56)          295168\n        Activation-8                            (1, 256, 56, 56)               0\n            Conv2D-9                            (1, 256, 56, 56)          590080\n       Activation-10                            (1, 256, 56, 56)               0\n        MaxPool2D-11                            (1, 256, 28, 28)               0\n           Conv2D-12                            (1, 512, 28, 28)         1180160\n       Activation-13                            (1, 512, 28, 28)               0\n           Conv2D-14                            (1, 512, 28, 28)         2359808\n       Activation-15                            (1, 512, 28, 28)               0\n        MaxPool2D-16                            (1, 512, 14, 14)               0\n           Conv2D-17                            (1, 512, 14, 14)         2359808\n       Activation-18                            (1, 512, 14, 14)               0\n           Conv2D-19                            (1, 512, 14, 14)         2359808\n       Activation-20                            (1, 512, 14, 14)               0\n        MaxPool2D-21                              (1, 512, 7, 7)               0\n       Activation-22                                   (1, 4096)               0\n            Dense-23                                   (1, 4096)       102764544\n          Dropout-24                                   (1, 4096)               0\n       Activation-25                                   (1, 4096)               0\n            Dense-26                                   (1, 4096)        16781312\n          Dropout-27                                   (1, 4096)               0\n            Dense-28                                   (1, 1000)         4097000\n              VGG-29                                   (1, 1000)               0\n================================================================================\nParameters in forward computation graph, duplicate included\n   Total params: 132863336\n   Trainable params: 132863336\n   Non-trainable params: 0\nShared params in forward computation graph: 0\nUnique parameters in model: 132863336\n--------------------------------------------------------------------------------\n"
     ]
    }
   ],
   "source": [
    "vgg11.summary(nd.ones((1,3,224,224)))"
   ]
  },
  {
   "source": [
    "we can see that the first convolution brings up the number of channels from 3 to 64. And we notice the effect of max pooling in the reduction of spatial resolution from 224 pixels to 112 pixels.\n",
    "\n",
    "This type of summary is very useful to make sure you get the right shapes at the right place, and that you are expecting and\n",
    "controlling the number of parameters in your model."
   ],
   "cell_type": "markdown",
   "metadata": {}
  },
  {
   "source": [
    "However, to visualize a computational graph, we can use the `mx.viz.plot_network` function that chooses the open source graphviz\n",
    "library to represents a computational graph. That function can take additional graphviz arguments for prettier printing, and you can also optionally pass in the shape of your input for overlaying the shapes onto graph directly.\n",
    "\n",
    "This graph represents well the linear and simple structure of vgg11. We can see it here from the outputs all the way back to the input. We can see it's a special dimension is increasing here as a number of channels is reducing all the way to the first input layer, where we have an input of size 224 by 224 and three channels. One thing to note is that the complexity and number of parameters are quite unrelated."
   ],
   "cell_type": "markdown",
   "metadata": {}
  },
  {
   "cell_type": "code",
   "execution_count": 8,
   "metadata": {},
   "outputs": [
    {
     "output_type": "error",
     "ename": "ExecutableNotFound",
     "evalue": "failed to execute ['dot', '-Tsvg'], make sure the Graphviz executables are on your systems' PATH",
     "traceback": [
      "\u001b[1;31m---------------------------------------------------------------------------\u001b[0m",
      "\u001b[1;31mFileNotFoundError\u001b[0m                         Traceback (most recent call last)",
      "\u001b[1;32md:\\Education\\Programming\\Cloud Computing\\AWS\\Coursera - AWS Computer Vision Getting Started with GluonCV\\MXNet-GluonCV\\lib\\site-packages\\graphviz\\backend.py\u001b[0m in \u001b[0;36mpipe\u001b[1;34m(engine, format, data, quiet)\u001b[0m\n\u001b[0;32m    156\u001b[0m     \u001b[1;32mtry\u001b[0m\u001b[1;33m:\u001b[0m\u001b[1;33m\u001b[0m\u001b[1;33m\u001b[0m\u001b[0m\n\u001b[1;32m--> 157\u001b[1;33m         proc = subprocess.Popen(args, stdin=subprocess.PIPE,\n\u001b[0m\u001b[0;32m    158\u001b[0m             \u001b[0mstdout\u001b[0m\u001b[1;33m=\u001b[0m\u001b[0msubprocess\u001b[0m\u001b[1;33m.\u001b[0m\u001b[0mPIPE\u001b[0m\u001b[1;33m,\u001b[0m \u001b[0mstderr\u001b[0m\u001b[1;33m=\u001b[0m\u001b[0msubprocess\u001b[0m\u001b[1;33m.\u001b[0m\u001b[0mPIPE\u001b[0m\u001b[1;33m,\u001b[0m\u001b[1;33m\u001b[0m\u001b[1;33m\u001b[0m\u001b[0m\n",
      "\u001b[1;32m~\\AppData\\Local\\Programs\\Python\\Python38\\lib\\subprocess.py\u001b[0m in \u001b[0;36m__init__\u001b[1;34m(self, args, bufsize, executable, stdin, stdout, stderr, preexec_fn, close_fds, shell, cwd, env, universal_newlines, startupinfo, creationflags, restore_signals, start_new_session, pass_fds, encoding, errors, text)\u001b[0m\n\u001b[0;32m    853\u001b[0m \u001b[1;33m\u001b[0m\u001b[0m\n\u001b[1;32m--> 854\u001b[1;33m             self._execute_child(args, executable, preexec_fn, close_fds,\n\u001b[0m\u001b[0;32m    855\u001b[0m                                 \u001b[0mpass_fds\u001b[0m\u001b[1;33m,\u001b[0m \u001b[0mcwd\u001b[0m\u001b[1;33m,\u001b[0m \u001b[0menv\u001b[0m\u001b[1;33m,\u001b[0m\u001b[1;33m\u001b[0m\u001b[1;33m\u001b[0m\u001b[0m\n",
      "\u001b[1;32m~\\AppData\\Local\\Programs\\Python\\Python38\\lib\\subprocess.py\u001b[0m in \u001b[0;36m_execute_child\u001b[1;34m(self, args, executable, preexec_fn, close_fds, pass_fds, cwd, env, startupinfo, creationflags, shell, p2cread, p2cwrite, c2pread, c2pwrite, errread, errwrite, unused_restore_signals, unused_start_new_session)\u001b[0m\n\u001b[0;32m   1306\u001b[0m             \u001b[1;32mtry\u001b[0m\u001b[1;33m:\u001b[0m\u001b[1;33m\u001b[0m\u001b[1;33m\u001b[0m\u001b[0m\n\u001b[1;32m-> 1307\u001b[1;33m                 hp, ht, pid, tid = _winapi.CreateProcess(executable, args,\n\u001b[0m\u001b[0;32m   1308\u001b[0m                                          \u001b[1;31m# no special security\u001b[0m\u001b[1;33m\u001b[0m\u001b[1;33m\u001b[0m\u001b[1;33m\u001b[0m\u001b[0m\n",
      "\u001b[1;31mFileNotFoundError\u001b[0m: [WinError 2] The system cannot find the file specified",
      "\nDuring handling of the above exception, another exception occurred:\n",
      "\u001b[1;31mExecutableNotFound\u001b[0m                        Traceback (most recent call last)",
      "\u001b[1;32md:\\Education\\Programming\\Cloud Computing\\AWS\\Coursera - AWS Computer Vision Getting Started with GluonCV\\MXNet-GluonCV\\lib\\site-packages\\IPython\\core\\formatters.py\u001b[0m in \u001b[0;36m__call__\u001b[1;34m(self, obj)\u001b[0m\n\u001b[0;32m    343\u001b[0m             \u001b[0mmethod\u001b[0m \u001b[1;33m=\u001b[0m \u001b[0mget_real_method\u001b[0m\u001b[1;33m(\u001b[0m\u001b[0mobj\u001b[0m\u001b[1;33m,\u001b[0m \u001b[0mself\u001b[0m\u001b[1;33m.\u001b[0m\u001b[0mprint_method\u001b[0m\u001b[1;33m)\u001b[0m\u001b[1;33m\u001b[0m\u001b[1;33m\u001b[0m\u001b[0m\n\u001b[0;32m    344\u001b[0m             \u001b[1;32mif\u001b[0m \u001b[0mmethod\u001b[0m \u001b[1;32mis\u001b[0m \u001b[1;32mnot\u001b[0m \u001b[1;32mNone\u001b[0m\u001b[1;33m:\u001b[0m\u001b[1;33m\u001b[0m\u001b[1;33m\u001b[0m\u001b[0m\n\u001b[1;32m--> 345\u001b[1;33m                 \u001b[1;32mreturn\u001b[0m \u001b[0mmethod\u001b[0m\u001b[1;33m(\u001b[0m\u001b[1;33m)\u001b[0m\u001b[1;33m\u001b[0m\u001b[1;33m\u001b[0m\u001b[0m\n\u001b[0m\u001b[0;32m    346\u001b[0m             \u001b[1;32mreturn\u001b[0m \u001b[1;32mNone\u001b[0m\u001b[1;33m\u001b[0m\u001b[1;33m\u001b[0m\u001b[0m\n\u001b[0;32m    347\u001b[0m         \u001b[1;32melse\u001b[0m\u001b[1;33m:\u001b[0m\u001b[1;33m\u001b[0m\u001b[1;33m\u001b[0m\u001b[0m\n",
      "\u001b[1;32md:\\Education\\Programming\\Cloud Computing\\AWS\\Coursera - AWS Computer Vision Getting Started with GluonCV\\MXNet-GluonCV\\lib\\site-packages\\graphviz\\files.py\u001b[0m in \u001b[0;36m_repr_svg_\u001b[1;34m(self)\u001b[0m\n\u001b[0;32m    104\u001b[0m \u001b[1;33m\u001b[0m\u001b[0m\n\u001b[0;32m    105\u001b[0m     \u001b[1;32mdef\u001b[0m \u001b[0m_repr_svg_\u001b[0m\u001b[1;33m(\u001b[0m\u001b[0mself\u001b[0m\u001b[1;33m)\u001b[0m\u001b[1;33m:\u001b[0m\u001b[1;33m\u001b[0m\u001b[1;33m\u001b[0m\u001b[0m\n\u001b[1;32m--> 106\u001b[1;33m         \u001b[1;32mreturn\u001b[0m \u001b[0mself\u001b[0m\u001b[1;33m.\u001b[0m\u001b[0mpipe\u001b[0m\u001b[1;33m(\u001b[0m\u001b[0mformat\u001b[0m\u001b[1;33m=\u001b[0m\u001b[1;34m'svg'\u001b[0m\u001b[1;33m)\u001b[0m\u001b[1;33m.\u001b[0m\u001b[0mdecode\u001b[0m\u001b[1;33m(\u001b[0m\u001b[0mself\u001b[0m\u001b[1;33m.\u001b[0m\u001b[0m_encoding\u001b[0m\u001b[1;33m)\u001b[0m\u001b[1;33m\u001b[0m\u001b[1;33m\u001b[0m\u001b[0m\n\u001b[0m\u001b[0;32m    107\u001b[0m \u001b[1;33m\u001b[0m\u001b[0m\n\u001b[0;32m    108\u001b[0m     \u001b[1;32mdef\u001b[0m \u001b[0mpipe\u001b[0m\u001b[1;33m(\u001b[0m\u001b[0mself\u001b[0m\u001b[1;33m,\u001b[0m \u001b[0mformat\u001b[0m\u001b[1;33m=\u001b[0m\u001b[1;32mNone\u001b[0m\u001b[1;33m)\u001b[0m\u001b[1;33m:\u001b[0m\u001b[1;33m\u001b[0m\u001b[1;33m\u001b[0m\u001b[0m\n",
      "\u001b[1;32md:\\Education\\Programming\\Cloud Computing\\AWS\\Coursera - AWS Computer Vision Getting Started with GluonCV\\MXNet-GluonCV\\lib\\site-packages\\graphviz\\files.py\u001b[0m in \u001b[0;36mpipe\u001b[1;34m(self, format)\u001b[0m\n\u001b[0;32m    123\u001b[0m         \u001b[0mdata\u001b[0m \u001b[1;33m=\u001b[0m \u001b[0mtext_type\u001b[0m\u001b[1;33m(\u001b[0m\u001b[0mself\u001b[0m\u001b[1;33m.\u001b[0m\u001b[0msource\u001b[0m\u001b[1;33m)\u001b[0m\u001b[1;33m.\u001b[0m\u001b[0mencode\u001b[0m\u001b[1;33m(\u001b[0m\u001b[0mself\u001b[0m\u001b[1;33m.\u001b[0m\u001b[0m_encoding\u001b[0m\u001b[1;33m)\u001b[0m\u001b[1;33m\u001b[0m\u001b[1;33m\u001b[0m\u001b[0m\n\u001b[0;32m    124\u001b[0m \u001b[1;33m\u001b[0m\u001b[0m\n\u001b[1;32m--> 125\u001b[1;33m         \u001b[0mouts\u001b[0m \u001b[1;33m=\u001b[0m \u001b[0mbackend\u001b[0m\u001b[1;33m.\u001b[0m\u001b[0mpipe\u001b[0m\u001b[1;33m(\u001b[0m\u001b[0mself\u001b[0m\u001b[1;33m.\u001b[0m\u001b[0m_engine\u001b[0m\u001b[1;33m,\u001b[0m \u001b[0mformat\u001b[0m\u001b[1;33m,\u001b[0m \u001b[0mdata\u001b[0m\u001b[1;33m)\u001b[0m\u001b[1;33m\u001b[0m\u001b[1;33m\u001b[0m\u001b[0m\n\u001b[0m\u001b[0;32m    126\u001b[0m \u001b[1;33m\u001b[0m\u001b[0m\n\u001b[0;32m    127\u001b[0m         \u001b[1;32mreturn\u001b[0m \u001b[0mouts\u001b[0m\u001b[1;33m\u001b[0m\u001b[1;33m\u001b[0m\u001b[0m\n",
      "\u001b[1;32md:\\Education\\Programming\\Cloud Computing\\AWS\\Coursera - AWS Computer Vision Getting Started with GluonCV\\MXNet-GluonCV\\lib\\site-packages\\graphviz\\backend.py\u001b[0m in \u001b[0;36mpipe\u001b[1;34m(engine, format, data, quiet)\u001b[0m\n\u001b[0;32m    160\u001b[0m     \u001b[1;32mexcept\u001b[0m \u001b[0mOSError\u001b[0m \u001b[1;32mas\u001b[0m \u001b[0me\u001b[0m\u001b[1;33m:\u001b[0m\u001b[1;33m\u001b[0m\u001b[1;33m\u001b[0m\u001b[0m\n\u001b[0;32m    161\u001b[0m         \u001b[1;32mif\u001b[0m \u001b[0me\u001b[0m\u001b[1;33m.\u001b[0m\u001b[0merrno\u001b[0m \u001b[1;33m==\u001b[0m \u001b[0merrno\u001b[0m\u001b[1;33m.\u001b[0m\u001b[0mENOENT\u001b[0m\u001b[1;33m:\u001b[0m\u001b[1;33m\u001b[0m\u001b[1;33m\u001b[0m\u001b[0m\n\u001b[1;32m--> 162\u001b[1;33m             \u001b[1;32mraise\u001b[0m \u001b[0mExecutableNotFound\u001b[0m\u001b[1;33m(\u001b[0m\u001b[0margs\u001b[0m\u001b[1;33m)\u001b[0m\u001b[1;33m\u001b[0m\u001b[1;33m\u001b[0m\u001b[0m\n\u001b[0m\u001b[0;32m    163\u001b[0m         \u001b[1;32melse\u001b[0m\u001b[1;33m:\u001b[0m  \u001b[1;31m# pragma: no cover\u001b[0m\u001b[1;33m\u001b[0m\u001b[1;33m\u001b[0m\u001b[0m\n\u001b[0;32m    164\u001b[0m             \u001b[1;32mraise\u001b[0m\u001b[1;33m\u001b[0m\u001b[1;33m\u001b[0m\u001b[0m\n",
      "\u001b[1;31mExecutableNotFound\u001b[0m: failed to execute ['dot', '-Tsvg'], make sure the Graphviz executables are on your systems' PATH"
     ]
    }
   ],
   "source": [
    "viz.plot_network(vgg11(mx.sym.var('data')), shape={'data':(1,3,224,224)},node_attrs={\"shape\":\"oval\",\"fixedsize\":\"false\"})"
   ]
  },
  {
   "cell_type": "code",
   "execution_count": 9,
   "metadata": {},
   "outputs": [
    {
     "output_type": "stream",
     "name": "stdout",
     "text": [
      "Downloading C:\\Users\\Mohamed.Sharaf\\AppData\\Roaming\\mxnet\\models\\mobilenetv2_1.0-36da4ff1.zipb5fcc56b-c753-48c6-8aee-699023fdeae7 from https://apache-mxnet.s3-accelerate.dualstack.amazonaws.com/gluon/models/mobilenetv2_1.0-36da4ff1.zip...\n"
     ]
    }
   ],
   "source": [
    "mobilenet = model_zoo.vision.mobilenet_v2_1_0(pretrained=True)"
   ]
  },
  {
   "source": [
    "If we take the mobilenet_v2 example from the model_zoo, we can see that it contains a lot more blocks than vgg11."
   ],
   "cell_type": "markdown",
   "metadata": {}
  },
  {
   "cell_type": "code",
   "execution_count": 10,
   "metadata": {},
   "outputs": [
    {
     "output_type": "execute_result",
     "data": {
      "text/plain": [
       "MobileNetV2(\n",
       "  (features): HybridSequential(\n",
       "    (0): Conv2D(3 -> 32, kernel_size=(3, 3), stride=(2, 2), padding=(1, 1), bias=False)\n",
       "    (1): BatchNorm(axis=1, eps=1e-05, momentum=0.9, fix_gamma=False, use_global_stats=False, in_channels=32)\n",
       "    (2): RELU6(\n",
       "    \n",
       "    )\n",
       "    (3): LinearBottleneck(\n",
       "      (out): HybridSequential(\n",
       "        (0): Conv2D(32 -> 32, kernel_size=(1, 1), stride=(1, 1), bias=False)\n",
       "        (1): BatchNorm(axis=1, eps=1e-05, momentum=0.9, fix_gamma=False, use_global_stats=False, in_channels=32)\n",
       "        (2): RELU6(\n",
       "        \n",
       "        )\n",
       "        (3): Conv2D(1 -> 32, kernel_size=(3, 3), stride=(1, 1), padding=(1, 1), groups=32, bias=False)\n",
       "        (4): BatchNorm(axis=1, eps=1e-05, momentum=0.9, fix_gamma=False, use_global_stats=False, in_channels=32)\n",
       "        (5): RELU6(\n",
       "        \n",
       "        )\n",
       "        (6): Conv2D(32 -> 16, kernel_size=(1, 1), stride=(1, 1), bias=False)\n",
       "        (7): BatchNorm(axis=1, eps=1e-05, momentum=0.9, fix_gamma=False, use_global_stats=False, in_channels=16)\n",
       "      )\n",
       "    )\n",
       "    (4): LinearBottleneck(\n",
       "      (out): HybridSequential(\n",
       "        (0): Conv2D(16 -> 96, kernel_size=(1, 1), stride=(1, 1), bias=False)\n",
       "        (1): BatchNorm(axis=1, eps=1e-05, momentum=0.9, fix_gamma=False, use_global_stats=False, in_channels=96)\n",
       "        (2): RELU6(\n",
       "        \n",
       "        )\n",
       "        (3): Conv2D(1 -> 96, kernel_size=(3, 3), stride=(2, 2), padding=(1, 1), groups=96, bias=False)\n",
       "        (4): BatchNorm(axis=1, eps=1e-05, momentum=0.9, fix_gamma=False, use_global_stats=False, in_channels=96)\n",
       "        (5): RELU6(\n",
       "        \n",
       "        )\n",
       "        (6): Conv2D(96 -> 24, kernel_size=(1, 1), stride=(1, 1), bias=False)\n",
       "        (7): BatchNorm(axis=1, eps=1e-05, momentum=0.9, fix_gamma=False, use_global_stats=False, in_channels=24)\n",
       "      )\n",
       "    )\n",
       "    (5): LinearBottleneck(\n",
       "      (out): HybridSequential(\n",
       "        (0): Conv2D(24 -> 144, kernel_size=(1, 1), stride=(1, 1), bias=False)\n",
       "        (1): BatchNorm(axis=1, eps=1e-05, momentum=0.9, fix_gamma=False, use_global_stats=False, in_channels=144)\n",
       "        (2): RELU6(\n",
       "        \n",
       "        )\n",
       "        (3): Conv2D(1 -> 144, kernel_size=(3, 3), stride=(1, 1), padding=(1, 1), groups=144, bias=False)\n",
       "        (4): BatchNorm(axis=1, eps=1e-05, momentum=0.9, fix_gamma=False, use_global_stats=False, in_channels=144)\n",
       "        (5): RELU6(\n",
       "        \n",
       "        )\n",
       "        (6): Conv2D(144 -> 24, kernel_size=(1, 1), stride=(1, 1), bias=False)\n",
       "        (7): BatchNorm(axis=1, eps=1e-05, momentum=0.9, fix_gamma=False, use_global_stats=False, in_channels=24)\n",
       "      )\n",
       "    )\n",
       "    (6): LinearBottleneck(\n",
       "      (out): HybridSequential(\n",
       "        (0): Conv2D(24 -> 144, kernel_size=(1, 1), stride=(1, 1), bias=False)\n",
       "        (1): BatchNorm(axis=1, eps=1e-05, momentum=0.9, fix_gamma=False, use_global_stats=False, in_channels=144)\n",
       "        (2): RELU6(\n",
       "        \n",
       "        )\n",
       "        (3): Conv2D(1 -> 144, kernel_size=(3, 3), stride=(2, 2), padding=(1, 1), groups=144, bias=False)\n",
       "        (4): BatchNorm(axis=1, eps=1e-05, momentum=0.9, fix_gamma=False, use_global_stats=False, in_channels=144)\n",
       "        (5): RELU6(\n",
       "        \n",
       "        )\n",
       "        (6): Conv2D(144 -> 32, kernel_size=(1, 1), stride=(1, 1), bias=False)\n",
       "        (7): BatchNorm(axis=1, eps=1e-05, momentum=0.9, fix_gamma=False, use_global_stats=False, in_channels=32)\n",
       "      )\n",
       "    )\n",
       "    (7): LinearBottleneck(\n",
       "      (out): HybridSequential(\n",
       "        (0): Conv2D(32 -> 192, kernel_size=(1, 1), stride=(1, 1), bias=False)\n",
       "        (1): BatchNorm(axis=1, eps=1e-05, momentum=0.9, fix_gamma=False, use_global_stats=False, in_channels=192)\n",
       "        (2): RELU6(\n",
       "        \n",
       "        )\n",
       "        (3): Conv2D(1 -> 192, kernel_size=(3, 3), stride=(1, 1), padding=(1, 1), groups=192, bias=False)\n",
       "        (4): BatchNorm(axis=1, eps=1e-05, momentum=0.9, fix_gamma=False, use_global_stats=False, in_channels=192)\n",
       "        (5): RELU6(\n",
       "        \n",
       "        )\n",
       "        (6): Conv2D(192 -> 32, kernel_size=(1, 1), stride=(1, 1), bias=False)\n",
       "        (7): BatchNorm(axis=1, eps=1e-05, momentum=0.9, fix_gamma=False, use_global_stats=False, in_channels=32)\n",
       "      )\n",
       "    )\n",
       "    (8): LinearBottleneck(\n",
       "      (out): HybridSequential(\n",
       "        (0): Conv2D(32 -> 192, kernel_size=(1, 1), stride=(1, 1), bias=False)\n",
       "        (1): BatchNorm(axis=1, eps=1e-05, momentum=0.9, fix_gamma=False, use_global_stats=False, in_channels=192)\n",
       "        (2): RELU6(\n",
       "        \n",
       "        )\n",
       "        (3): Conv2D(1 -> 192, kernel_size=(3, 3), stride=(1, 1), padding=(1, 1), groups=192, bias=False)\n",
       "        (4): BatchNorm(axis=1, eps=1e-05, momentum=0.9, fix_gamma=False, use_global_stats=False, in_channels=192)\n",
       "        (5): RELU6(\n",
       "        \n",
       "        )\n",
       "        (6): Conv2D(192 -> 32, kernel_size=(1, 1), stride=(1, 1), bias=False)\n",
       "        (7): BatchNorm(axis=1, eps=1e-05, momentum=0.9, fix_gamma=False, use_global_stats=False, in_channels=32)\n",
       "      )\n",
       "    )\n",
       "    (9): LinearBottleneck(\n",
       "      (out): HybridSequential(\n",
       "        (0): Conv2D(32 -> 192, kernel_size=(1, 1), stride=(1, 1), bias=False)\n",
       "        (1): BatchNorm(axis=1, eps=1e-05, momentum=0.9, fix_gamma=False, use_global_stats=False, in_channels=192)\n",
       "        (2): RELU6(\n",
       "        \n",
       "        )\n",
       "        (3): Conv2D(1 -> 192, kernel_size=(3, 3), stride=(2, 2), padding=(1, 1), groups=192, bias=False)\n",
       "        (4): BatchNorm(axis=1, eps=1e-05, momentum=0.9, fix_gamma=False, use_global_stats=False, in_channels=192)\n",
       "        (5): RELU6(\n",
       "        \n",
       "        )\n",
       "        (6): Conv2D(192 -> 64, kernel_size=(1, 1), stride=(1, 1), bias=False)\n",
       "        (7): BatchNorm(axis=1, eps=1e-05, momentum=0.9, fix_gamma=False, use_global_stats=False, in_channels=64)\n",
       "      )\n",
       "    )\n",
       "    (10): LinearBottleneck(\n",
       "      (out): HybridSequential(\n",
       "        (0): Conv2D(64 -> 384, kernel_size=(1, 1), stride=(1, 1), bias=False)\n",
       "        (1): BatchNorm(axis=1, eps=1e-05, momentum=0.9, fix_gamma=False, use_global_stats=False, in_channels=384)\n",
       "        (2): RELU6(\n",
       "        \n",
       "        )\n",
       "        (3): Conv2D(1 -> 384, kernel_size=(3, 3), stride=(1, 1), padding=(1, 1), groups=384, bias=False)\n",
       "        (4): BatchNorm(axis=1, eps=1e-05, momentum=0.9, fix_gamma=False, use_global_stats=False, in_channels=384)\n",
       "        (5): RELU6(\n",
       "        \n",
       "        )\n",
       "        (6): Conv2D(384 -> 64, kernel_size=(1, 1), stride=(1, 1), bias=False)\n",
       "        (7): BatchNorm(axis=1, eps=1e-05, momentum=0.9, fix_gamma=False, use_global_stats=False, in_channels=64)\n",
       "      )\n",
       "    )\n",
       "    (11): LinearBottleneck(\n",
       "      (out): HybridSequential(\n",
       "        (0): Conv2D(64 -> 384, kernel_size=(1, 1), stride=(1, 1), bias=False)\n",
       "        (1): BatchNorm(axis=1, eps=1e-05, momentum=0.9, fix_gamma=False, use_global_stats=False, in_channels=384)\n",
       "        (2): RELU6(\n",
       "        \n",
       "        )\n",
       "        (3): Conv2D(1 -> 384, kernel_size=(3, 3), stride=(1, 1), padding=(1, 1), groups=384, bias=False)\n",
       "        (4): BatchNorm(axis=1, eps=1e-05, momentum=0.9, fix_gamma=False, use_global_stats=False, in_channels=384)\n",
       "        (5): RELU6(\n",
       "        \n",
       "        )\n",
       "        (6): Conv2D(384 -> 64, kernel_size=(1, 1), stride=(1, 1), bias=False)\n",
       "        (7): BatchNorm(axis=1, eps=1e-05, momentum=0.9, fix_gamma=False, use_global_stats=False, in_channels=64)\n",
       "      )\n",
       "    )\n",
       "    (12): LinearBottleneck(\n",
       "      (out): HybridSequential(\n",
       "        (0): Conv2D(64 -> 384, kernel_size=(1, 1), stride=(1, 1), bias=False)\n",
       "        (1): BatchNorm(axis=1, eps=1e-05, momentum=0.9, fix_gamma=False, use_global_stats=False, in_channels=384)\n",
       "        (2): RELU6(\n",
       "        \n",
       "        )\n",
       "        (3): Conv2D(1 -> 384, kernel_size=(3, 3), stride=(1, 1), padding=(1, 1), groups=384, bias=False)\n",
       "        (4): BatchNorm(axis=1, eps=1e-05, momentum=0.9, fix_gamma=False, use_global_stats=False, in_channels=384)\n",
       "        (5): RELU6(\n",
       "        \n",
       "        )\n",
       "        (6): Conv2D(384 -> 64, kernel_size=(1, 1), stride=(1, 1), bias=False)\n",
       "        (7): BatchNorm(axis=1, eps=1e-05, momentum=0.9, fix_gamma=False, use_global_stats=False, in_channels=64)\n",
       "      )\n",
       "    )\n",
       "    (13): LinearBottleneck(\n",
       "      (out): HybridSequential(\n",
       "        (0): Conv2D(64 -> 384, kernel_size=(1, 1), stride=(1, 1), bias=False)\n",
       "        (1): BatchNorm(axis=1, eps=1e-05, momentum=0.9, fix_gamma=False, use_global_stats=False, in_channels=384)\n",
       "        (2): RELU6(\n",
       "        \n",
       "        )\n",
       "        (3): Conv2D(1 -> 384, kernel_size=(3, 3), stride=(1, 1), padding=(1, 1), groups=384, bias=False)\n",
       "        (4): BatchNorm(axis=1, eps=1e-05, momentum=0.9, fix_gamma=False, use_global_stats=False, in_channels=384)\n",
       "        (5): RELU6(\n",
       "        \n",
       "        )\n",
       "        (6): Conv2D(384 -> 96, kernel_size=(1, 1), stride=(1, 1), bias=False)\n",
       "        (7): BatchNorm(axis=1, eps=1e-05, momentum=0.9, fix_gamma=False, use_global_stats=False, in_channels=96)\n",
       "      )\n",
       "    )\n",
       "    (14): LinearBottleneck(\n",
       "      (out): HybridSequential(\n",
       "        (0): Conv2D(96 -> 576, kernel_size=(1, 1), stride=(1, 1), bias=False)\n",
       "        (1): BatchNorm(axis=1, eps=1e-05, momentum=0.9, fix_gamma=False, use_global_stats=False, in_channels=576)\n",
       "        (2): RELU6(\n",
       "        \n",
       "        )\n",
       "        (3): Conv2D(1 -> 576, kernel_size=(3, 3), stride=(1, 1), padding=(1, 1), groups=576, bias=False)\n",
       "        (4): BatchNorm(axis=1, eps=1e-05, momentum=0.9, fix_gamma=False, use_global_stats=False, in_channels=576)\n",
       "        (5): RELU6(\n",
       "        \n",
       "        )\n",
       "        (6): Conv2D(576 -> 96, kernel_size=(1, 1), stride=(1, 1), bias=False)\n",
       "        (7): BatchNorm(axis=1, eps=1e-05, momentum=0.9, fix_gamma=False, use_global_stats=False, in_channels=96)\n",
       "      )\n",
       "    )\n",
       "    (15): LinearBottleneck(\n",
       "      (out): HybridSequential(\n",
       "        (0): Conv2D(96 -> 576, kernel_size=(1, 1), stride=(1, 1), bias=False)\n",
       "        (1): BatchNorm(axis=1, eps=1e-05, momentum=0.9, fix_gamma=False, use_global_stats=False, in_channels=576)\n",
       "        (2): RELU6(\n",
       "        \n",
       "        )\n",
       "        (3): Conv2D(1 -> 576, kernel_size=(3, 3), stride=(1, 1), padding=(1, 1), groups=576, bias=False)\n",
       "        (4): BatchNorm(axis=1, eps=1e-05, momentum=0.9, fix_gamma=False, use_global_stats=False, in_channels=576)\n",
       "        (5): RELU6(\n",
       "        \n",
       "        )\n",
       "        (6): Conv2D(576 -> 96, kernel_size=(1, 1), stride=(1, 1), bias=False)\n",
       "        (7): BatchNorm(axis=1, eps=1e-05, momentum=0.9, fix_gamma=False, use_global_stats=False, in_channels=96)\n",
       "      )\n",
       "    )\n",
       "    (16): LinearBottleneck(\n",
       "      (out): HybridSequential(\n",
       "        (0): Conv2D(96 -> 576, kernel_size=(1, 1), stride=(1, 1), bias=False)\n",
       "        (1): BatchNorm(axis=1, eps=1e-05, momentum=0.9, fix_gamma=False, use_global_stats=False, in_channels=576)\n",
       "        (2): RELU6(\n",
       "        \n",
       "        )\n",
       "        (3): Conv2D(1 -> 576, kernel_size=(3, 3), stride=(2, 2), padding=(1, 1), groups=576, bias=False)\n",
       "        (4): BatchNorm(axis=1, eps=1e-05, momentum=0.9, fix_gamma=False, use_global_stats=False, in_channels=576)\n",
       "        (5): RELU6(\n",
       "        \n",
       "        )\n",
       "        (6): Conv2D(576 -> 160, kernel_size=(1, 1), stride=(1, 1), bias=False)\n",
       "        (7): BatchNorm(axis=1, eps=1e-05, momentum=0.9, fix_gamma=False, use_global_stats=False, in_channels=160)\n",
       "      )\n",
       "    )\n",
       "    (17): LinearBottleneck(\n",
       "      (out): HybridSequential(\n",
       "        (0): Conv2D(160 -> 960, kernel_size=(1, 1), stride=(1, 1), bias=False)\n",
       "        (1): BatchNorm(axis=1, eps=1e-05, momentum=0.9, fix_gamma=False, use_global_stats=False, in_channels=960)\n",
       "        (2): RELU6(\n",
       "        \n",
       "        )\n",
       "        (3): Conv2D(1 -> 960, kernel_size=(3, 3), stride=(1, 1), padding=(1, 1), groups=960, bias=False)\n",
       "        (4): BatchNorm(axis=1, eps=1e-05, momentum=0.9, fix_gamma=False, use_global_stats=False, in_channels=960)\n",
       "        (5): RELU6(\n",
       "        \n",
       "        )\n",
       "        (6): Conv2D(960 -> 160, kernel_size=(1, 1), stride=(1, 1), bias=False)\n",
       "        (7): BatchNorm(axis=1, eps=1e-05, momentum=0.9, fix_gamma=False, use_global_stats=False, in_channels=160)\n",
       "      )\n",
       "    )\n",
       "    (18): LinearBottleneck(\n",
       "      (out): HybridSequential(\n",
       "        (0): Conv2D(160 -> 960, kernel_size=(1, 1), stride=(1, 1), bias=False)\n",
       "        (1): BatchNorm(axis=1, eps=1e-05, momentum=0.9, fix_gamma=False, use_global_stats=False, in_channels=960)\n",
       "        (2): RELU6(\n",
       "        \n",
       "        )\n",
       "        (3): Conv2D(1 -> 960, kernel_size=(3, 3), stride=(1, 1), padding=(1, 1), groups=960, bias=False)\n",
       "        (4): BatchNorm(axis=1, eps=1e-05, momentum=0.9, fix_gamma=False, use_global_stats=False, in_channels=960)\n",
       "        (5): RELU6(\n",
       "        \n",
       "        )\n",
       "        (6): Conv2D(960 -> 160, kernel_size=(1, 1), stride=(1, 1), bias=False)\n",
       "        (7): BatchNorm(axis=1, eps=1e-05, momentum=0.9, fix_gamma=False, use_global_stats=False, in_channels=160)\n",
       "      )\n",
       "    )\n",
       "    (19): LinearBottleneck(\n",
       "      (out): HybridSequential(\n",
       "        (0): Conv2D(160 -> 960, kernel_size=(1, 1), stride=(1, 1), bias=False)\n",
       "        (1): BatchNorm(axis=1, eps=1e-05, momentum=0.9, fix_gamma=False, use_global_stats=False, in_channels=960)\n",
       "        (2): RELU6(\n",
       "        \n",
       "        )\n",
       "        (3): Conv2D(1 -> 960, kernel_size=(3, 3), stride=(1, 1), padding=(1, 1), groups=960, bias=False)\n",
       "        (4): BatchNorm(axis=1, eps=1e-05, momentum=0.9, fix_gamma=False, use_global_stats=False, in_channels=960)\n",
       "        (5): RELU6(\n",
       "        \n",
       "        )\n",
       "        (6): Conv2D(960 -> 320, kernel_size=(1, 1), stride=(1, 1), bias=False)\n",
       "        (7): BatchNorm(axis=1, eps=1e-05, momentum=0.9, fix_gamma=False, use_global_stats=False, in_channels=320)\n",
       "      )\n",
       "    )\n",
       "    (20): Conv2D(320 -> 1280, kernel_size=(1, 1), stride=(1, 1), bias=False)\n",
       "    (21): BatchNorm(axis=1, eps=1e-05, momentum=0.9, fix_gamma=False, use_global_stats=False, in_channels=1280)\n",
       "    (22): RELU6(\n",
       "    \n",
       "    )\n",
       "    (23): GlobalAvgPool2D(size=(1, 1), stride=(1, 1), padding=(0, 0), ceil_mode=True, global_pool=True, pool_type=avg, layout=NCHW)\n",
       "  )\n",
       "  (output): HybridSequential(\n",
       "    (0): Conv2D(1280 -> 1000, kernel_size=(1, 1), stride=(1, 1), bias=False)\n",
       "    (1): Flatten\n",
       "  )\n",
       ")"
      ]
     },
     "metadata": {},
     "execution_count": 10
    }
   ],
   "source": [
    "mobilenet"
   ]
  },
  {
   "source": [
    "You can see how many layers this network has. However, when we print a summary of this network, we realize that despite this very large number of layers, the number of parameters is only around 3.5 million. Remember that vgg11 had 100 million in the last layer.\n",
    "The reason is it's using linearly separable convolution, and we can see that up until the mid part of the network, we only using about 50,000 or less parameters per layer. Typically, dense layers are very parameter heavy since a number of parameters is a function of the number of inputs times the number of outputs. However, convolutional layer of parameters that roughly linear in the number of channels, and do not depend on the input special dimensions.\n",
    "\n",
    "MobileNet does away with dense layer, and it is a final classification layer, and otherwise uses lightweight depth wise separable convolution for the main feature extraction branch."
   ],
   "cell_type": "markdown",
   "metadata": {}
  },
  {
   "cell_type": "code",
   "execution_count": 11,
   "metadata": {},
   "outputs": [
    {
     "output_type": "stream",
     "name": "stdout",
     "text": [
      "--------------------------------------------------------------------------------\n        Layer (type)                                Output Shape         Param #\n================================================================================\n               Input                            (1, 3, 224, 224)               0\n            Conv2D-1                           (1, 32, 112, 112)             864\n         BatchNorm-2                           (1, 32, 112, 112)             128\n             RELU6-3                           (1, 32, 112, 112)               0\n            Conv2D-4                           (1, 32, 112, 112)            1024\n         BatchNorm-5                           (1, 32, 112, 112)             128\n             RELU6-6                           (1, 32, 112, 112)               0\n            Conv2D-7                           (1, 32, 112, 112)             288\n         BatchNorm-8                           (1, 32, 112, 112)             128\n             RELU6-9                           (1, 32, 112, 112)               0\n           Conv2D-10                           (1, 16, 112, 112)             512\n        BatchNorm-11                           (1, 16, 112, 112)              64\n LinearBottleneck-12                           (1, 16, 112, 112)               0\n           Conv2D-13                           (1, 96, 112, 112)            1536\n        BatchNorm-14                           (1, 96, 112, 112)             384\n            RELU6-15                           (1, 96, 112, 112)               0\n           Conv2D-16                             (1, 96, 56, 56)             864\n        BatchNorm-17                             (1, 96, 56, 56)             384\n            RELU6-18                             (1, 96, 56, 56)               0\n           Conv2D-19                             (1, 24, 56, 56)            2304\n        BatchNorm-20                             (1, 24, 56, 56)              96\n LinearBottleneck-21                             (1, 24, 56, 56)               0\n           Conv2D-22                            (1, 144, 56, 56)            3456\n        BatchNorm-23                            (1, 144, 56, 56)             576\n            RELU6-24                            (1, 144, 56, 56)               0\n           Conv2D-25                            (1, 144, 56, 56)            1296\n        BatchNorm-26                            (1, 144, 56, 56)             576\n            RELU6-27                            (1, 144, 56, 56)               0\n           Conv2D-28                             (1, 24, 56, 56)            3456\n        BatchNorm-29                             (1, 24, 56, 56)              96\n LinearBottleneck-30                             (1, 24, 56, 56)               0\n           Conv2D-31                            (1, 144, 56, 56)            3456\n        BatchNorm-32                            (1, 144, 56, 56)             576\n            RELU6-33                            (1, 144, 56, 56)               0\n           Conv2D-34                            (1, 144, 28, 28)            1296\n        BatchNorm-35                            (1, 144, 28, 28)             576\n            RELU6-36                            (1, 144, 28, 28)               0\n           Conv2D-37                             (1, 32, 28, 28)            4608\n        BatchNorm-38                             (1, 32, 28, 28)             128\n LinearBottleneck-39                             (1, 32, 28, 28)               0\n           Conv2D-40                            (1, 192, 28, 28)            6144\n        BatchNorm-41                            (1, 192, 28, 28)             768\n            RELU6-42                            (1, 192, 28, 28)               0\n           Conv2D-43                            (1, 192, 28, 28)            1728\n        BatchNorm-44                            (1, 192, 28, 28)             768\n            RELU6-45                            (1, 192, 28, 28)               0\n           Conv2D-46                             (1, 32, 28, 28)            6144\n        BatchNorm-47                             (1, 32, 28, 28)             128\n LinearBottleneck-48                             (1, 32, 28, 28)               0\n           Conv2D-49                            (1, 192, 28, 28)            6144\n        BatchNorm-50                            (1, 192, 28, 28)             768\n            RELU6-51                            (1, 192, 28, 28)               0\n           Conv2D-52                            (1, 192, 28, 28)            1728\n        BatchNorm-53                            (1, 192, 28, 28)             768\n            RELU6-54                            (1, 192, 28, 28)               0\n           Conv2D-55                             (1, 32, 28, 28)            6144\n        BatchNorm-56                             (1, 32, 28, 28)             128\n LinearBottleneck-57                             (1, 32, 28, 28)               0\n           Conv2D-58                            (1, 192, 28, 28)            6144\n        BatchNorm-59                            (1, 192, 28, 28)             768\n            RELU6-60                            (1, 192, 28, 28)               0\n           Conv2D-61                            (1, 192, 14, 14)            1728\n        BatchNorm-62                            (1, 192, 14, 14)             768\n            RELU6-63                            (1, 192, 14, 14)               0\n           Conv2D-64                             (1, 64, 14, 14)           12288\n        BatchNorm-65                             (1, 64, 14, 14)             256\n LinearBottleneck-66                             (1, 64, 14, 14)               0\n           Conv2D-67                            (1, 384, 14, 14)           24576\n        BatchNorm-68                            (1, 384, 14, 14)            1536\n            RELU6-69                            (1, 384, 14, 14)               0\n           Conv2D-70                            (1, 384, 14, 14)            3456\n        BatchNorm-71                            (1, 384, 14, 14)            1536\n            RELU6-72                            (1, 384, 14, 14)               0\n           Conv2D-73                             (1, 64, 14, 14)           24576\n        BatchNorm-74                             (1, 64, 14, 14)             256\n LinearBottleneck-75                             (1, 64, 14, 14)               0\n           Conv2D-76                            (1, 384, 14, 14)           24576\n        BatchNorm-77                            (1, 384, 14, 14)            1536\n            RELU6-78                            (1, 384, 14, 14)               0\n           Conv2D-79                            (1, 384, 14, 14)            3456\n        BatchNorm-80                            (1, 384, 14, 14)            1536\n            RELU6-81                            (1, 384, 14, 14)               0\n           Conv2D-82                             (1, 64, 14, 14)           24576\n        BatchNorm-83                             (1, 64, 14, 14)             256\n LinearBottleneck-84                             (1, 64, 14, 14)               0\n           Conv2D-85                            (1, 384, 14, 14)           24576\n        BatchNorm-86                            (1, 384, 14, 14)            1536\n            RELU6-87                            (1, 384, 14, 14)               0\n           Conv2D-88                            (1, 384, 14, 14)            3456\n        BatchNorm-89                            (1, 384, 14, 14)            1536\n            RELU6-90                            (1, 384, 14, 14)               0\n           Conv2D-91                             (1, 64, 14, 14)           24576\n        BatchNorm-92                             (1, 64, 14, 14)             256\n LinearBottleneck-93                             (1, 64, 14, 14)               0\n           Conv2D-94                            (1, 384, 14, 14)           24576\n        BatchNorm-95                            (1, 384, 14, 14)            1536\n            RELU6-96                            (1, 384, 14, 14)               0\n           Conv2D-97                            (1, 384, 14, 14)            3456\n        BatchNorm-98                            (1, 384, 14, 14)            1536\n            RELU6-99                            (1, 384, 14, 14)               0\n          Conv2D-100                             (1, 96, 14, 14)           36864\n       BatchNorm-101                             (1, 96, 14, 14)             384\nLinearBottleneck-102                             (1, 96, 14, 14)               0\n          Conv2D-103                            (1, 576, 14, 14)           55296\n       BatchNorm-104                            (1, 576, 14, 14)            2304\n           RELU6-105                            (1, 576, 14, 14)               0\n          Conv2D-106                            (1, 576, 14, 14)            5184\n       BatchNorm-107                            (1, 576, 14, 14)            2304\n           RELU6-108                            (1, 576, 14, 14)               0\n          Conv2D-109                             (1, 96, 14, 14)           55296\n       BatchNorm-110                             (1, 96, 14, 14)             384\nLinearBottleneck-111                             (1, 96, 14, 14)               0\n          Conv2D-112                            (1, 576, 14, 14)           55296\n       BatchNorm-113                            (1, 576, 14, 14)            2304\n           RELU6-114                            (1, 576, 14, 14)               0\n          Conv2D-115                            (1, 576, 14, 14)            5184\n       BatchNorm-116                            (1, 576, 14, 14)            2304\n           RELU6-117                            (1, 576, 14, 14)               0\n          Conv2D-118                             (1, 96, 14, 14)           55296\n       BatchNorm-119                             (1, 96, 14, 14)             384\nLinearBottleneck-120                             (1, 96, 14, 14)               0\n          Conv2D-121                            (1, 576, 14, 14)           55296\n       BatchNorm-122                            (1, 576, 14, 14)            2304\n           RELU6-123                            (1, 576, 14, 14)               0\n          Conv2D-124                              (1, 576, 7, 7)            5184\n       BatchNorm-125                              (1, 576, 7, 7)            2304\n           RELU6-126                              (1, 576, 7, 7)               0\n          Conv2D-127                              (1, 160, 7, 7)           92160\n       BatchNorm-128                              (1, 160, 7, 7)             640\nLinearBottleneck-129                              (1, 160, 7, 7)               0\n          Conv2D-130                              (1, 960, 7, 7)          153600\n       BatchNorm-131                              (1, 960, 7, 7)            3840\n           RELU6-132                              (1, 960, 7, 7)               0\n          Conv2D-133                              (1, 960, 7, 7)            8640\n       BatchNorm-134                              (1, 960, 7, 7)            3840\n           RELU6-135                              (1, 960, 7, 7)               0\n          Conv2D-136                              (1, 160, 7, 7)          153600\n       BatchNorm-137                              (1, 160, 7, 7)             640\nLinearBottleneck-138                              (1, 160, 7, 7)               0\n          Conv2D-139                              (1, 960, 7, 7)          153600\n       BatchNorm-140                              (1, 960, 7, 7)            3840\n           RELU6-141                              (1, 960, 7, 7)               0\n          Conv2D-142                              (1, 960, 7, 7)            8640\n       BatchNorm-143                              (1, 960, 7, 7)            3840\n           RELU6-144                              (1, 960, 7, 7)               0\n          Conv2D-145                              (1, 160, 7, 7)          153600\n       BatchNorm-146                              (1, 160, 7, 7)             640\nLinearBottleneck-147                              (1, 160, 7, 7)               0\n          Conv2D-148                              (1, 960, 7, 7)          153600\n       BatchNorm-149                              (1, 960, 7, 7)            3840\n           RELU6-150                              (1, 960, 7, 7)               0\n          Conv2D-151                              (1, 960, 7, 7)            8640\n       BatchNorm-152                              (1, 960, 7, 7)            3840\n           RELU6-153                              (1, 960, 7, 7)               0\n          Conv2D-154                              (1, 320, 7, 7)          307200\n       BatchNorm-155                              (1, 320, 7, 7)            1280\nLinearBottleneck-156                              (1, 320, 7, 7)               0\n          Conv2D-157                             (1, 1280, 7, 7)          409600\n       BatchNorm-158                             (1, 1280, 7, 7)            5120\n           RELU6-159                             (1, 1280, 7, 7)               0\n GlobalAvgPool2D-160                             (1, 1280, 1, 1)               0\n          Conv2D-161                             (1, 1000, 1, 1)         1280000\n         Flatten-162                                   (1, 1000)               0\n     MobileNetV2-163                                   (1, 1000)               0\n================================================================================\nParameters in forward computation graph, duplicate included\n   Total params: 3539136\n   Trainable params: 3504960\n   Non-trainable params: 34176\nShared params in forward computation graph: 0\nUnique parameters in model: 3539136\n--------------------------------------------------------------------------------\n"
     ]
    }
   ],
   "source": [
    "mobilenet.summary(nd.ones((1,3,224,224)))"
   ]
  },
  {
   "source": [
    "If we try to visualize MobileNet here, we see that it's very hard to understand the flow of the data because the network is so big."
   ],
   "cell_type": "markdown",
   "metadata": {}
  },
  {
   "cell_type": "code",
   "execution_count": 12,
   "metadata": {},
   "outputs": [
    {
     "output_type": "error",
     "ename": "ExecutableNotFound",
     "evalue": "failed to execute ['dot', '-Tsvg'], make sure the Graphviz executables are on your systems' PATH",
     "traceback": [
      "\u001b[1;31m---------------------------------------------------------------------------\u001b[0m",
      "\u001b[1;31mFileNotFoundError\u001b[0m                         Traceback (most recent call last)",
      "\u001b[1;32md:\\Education\\Programming\\Cloud Computing\\AWS\\Coursera - AWS Computer Vision Getting Started with GluonCV\\MXNet-GluonCV\\lib\\site-packages\\graphviz\\backend.py\u001b[0m in \u001b[0;36mpipe\u001b[1;34m(engine, format, data, quiet)\u001b[0m\n\u001b[0;32m    156\u001b[0m     \u001b[1;32mtry\u001b[0m\u001b[1;33m:\u001b[0m\u001b[1;33m\u001b[0m\u001b[1;33m\u001b[0m\u001b[0m\n\u001b[1;32m--> 157\u001b[1;33m         proc = subprocess.Popen(args, stdin=subprocess.PIPE,\n\u001b[0m\u001b[0;32m    158\u001b[0m             \u001b[0mstdout\u001b[0m\u001b[1;33m=\u001b[0m\u001b[0msubprocess\u001b[0m\u001b[1;33m.\u001b[0m\u001b[0mPIPE\u001b[0m\u001b[1;33m,\u001b[0m \u001b[0mstderr\u001b[0m\u001b[1;33m=\u001b[0m\u001b[0msubprocess\u001b[0m\u001b[1;33m.\u001b[0m\u001b[0mPIPE\u001b[0m\u001b[1;33m,\u001b[0m\u001b[1;33m\u001b[0m\u001b[1;33m\u001b[0m\u001b[0m\n",
      "\u001b[1;32m~\\AppData\\Local\\Programs\\Python\\Python38\\lib\\subprocess.py\u001b[0m in \u001b[0;36m__init__\u001b[1;34m(self, args, bufsize, executable, stdin, stdout, stderr, preexec_fn, close_fds, shell, cwd, env, universal_newlines, startupinfo, creationflags, restore_signals, start_new_session, pass_fds, encoding, errors, text)\u001b[0m\n\u001b[0;32m    853\u001b[0m \u001b[1;33m\u001b[0m\u001b[0m\n\u001b[1;32m--> 854\u001b[1;33m             self._execute_child(args, executable, preexec_fn, close_fds,\n\u001b[0m\u001b[0;32m    855\u001b[0m                                 \u001b[0mpass_fds\u001b[0m\u001b[1;33m,\u001b[0m \u001b[0mcwd\u001b[0m\u001b[1;33m,\u001b[0m \u001b[0menv\u001b[0m\u001b[1;33m,\u001b[0m\u001b[1;33m\u001b[0m\u001b[1;33m\u001b[0m\u001b[0m\n",
      "\u001b[1;32m~\\AppData\\Local\\Programs\\Python\\Python38\\lib\\subprocess.py\u001b[0m in \u001b[0;36m_execute_child\u001b[1;34m(self, args, executable, preexec_fn, close_fds, pass_fds, cwd, env, startupinfo, creationflags, shell, p2cread, p2cwrite, c2pread, c2pwrite, errread, errwrite, unused_restore_signals, unused_start_new_session)\u001b[0m\n\u001b[0;32m   1306\u001b[0m             \u001b[1;32mtry\u001b[0m\u001b[1;33m:\u001b[0m\u001b[1;33m\u001b[0m\u001b[1;33m\u001b[0m\u001b[0m\n\u001b[1;32m-> 1307\u001b[1;33m                 hp, ht, pid, tid = _winapi.CreateProcess(executable, args,\n\u001b[0m\u001b[0;32m   1308\u001b[0m                                          \u001b[1;31m# no special security\u001b[0m\u001b[1;33m\u001b[0m\u001b[1;33m\u001b[0m\u001b[1;33m\u001b[0m\u001b[0m\n",
      "\u001b[1;31mFileNotFoundError\u001b[0m: [WinError 2] The system cannot find the file specified",
      "\nDuring handling of the above exception, another exception occurred:\n",
      "\u001b[1;31mExecutableNotFound\u001b[0m                        Traceback (most recent call last)",
      "\u001b[1;32md:\\Education\\Programming\\Cloud Computing\\AWS\\Coursera - AWS Computer Vision Getting Started with GluonCV\\MXNet-GluonCV\\lib\\site-packages\\IPython\\core\\formatters.py\u001b[0m in \u001b[0;36m__call__\u001b[1;34m(self, obj)\u001b[0m\n\u001b[0;32m    343\u001b[0m             \u001b[0mmethod\u001b[0m \u001b[1;33m=\u001b[0m \u001b[0mget_real_method\u001b[0m\u001b[1;33m(\u001b[0m\u001b[0mobj\u001b[0m\u001b[1;33m,\u001b[0m \u001b[0mself\u001b[0m\u001b[1;33m.\u001b[0m\u001b[0mprint_method\u001b[0m\u001b[1;33m)\u001b[0m\u001b[1;33m\u001b[0m\u001b[1;33m\u001b[0m\u001b[0m\n\u001b[0;32m    344\u001b[0m             \u001b[1;32mif\u001b[0m \u001b[0mmethod\u001b[0m \u001b[1;32mis\u001b[0m \u001b[1;32mnot\u001b[0m \u001b[1;32mNone\u001b[0m\u001b[1;33m:\u001b[0m\u001b[1;33m\u001b[0m\u001b[1;33m\u001b[0m\u001b[0m\n\u001b[1;32m--> 345\u001b[1;33m                 \u001b[1;32mreturn\u001b[0m \u001b[0mmethod\u001b[0m\u001b[1;33m(\u001b[0m\u001b[1;33m)\u001b[0m\u001b[1;33m\u001b[0m\u001b[1;33m\u001b[0m\u001b[0m\n\u001b[0m\u001b[0;32m    346\u001b[0m             \u001b[1;32mreturn\u001b[0m \u001b[1;32mNone\u001b[0m\u001b[1;33m\u001b[0m\u001b[1;33m\u001b[0m\u001b[0m\n\u001b[0;32m    347\u001b[0m         \u001b[1;32melse\u001b[0m\u001b[1;33m:\u001b[0m\u001b[1;33m\u001b[0m\u001b[1;33m\u001b[0m\u001b[0m\n",
      "\u001b[1;32md:\\Education\\Programming\\Cloud Computing\\AWS\\Coursera - AWS Computer Vision Getting Started with GluonCV\\MXNet-GluonCV\\lib\\site-packages\\graphviz\\files.py\u001b[0m in \u001b[0;36m_repr_svg_\u001b[1;34m(self)\u001b[0m\n\u001b[0;32m    104\u001b[0m \u001b[1;33m\u001b[0m\u001b[0m\n\u001b[0;32m    105\u001b[0m     \u001b[1;32mdef\u001b[0m \u001b[0m_repr_svg_\u001b[0m\u001b[1;33m(\u001b[0m\u001b[0mself\u001b[0m\u001b[1;33m)\u001b[0m\u001b[1;33m:\u001b[0m\u001b[1;33m\u001b[0m\u001b[1;33m\u001b[0m\u001b[0m\n\u001b[1;32m--> 106\u001b[1;33m         \u001b[1;32mreturn\u001b[0m \u001b[0mself\u001b[0m\u001b[1;33m.\u001b[0m\u001b[0mpipe\u001b[0m\u001b[1;33m(\u001b[0m\u001b[0mformat\u001b[0m\u001b[1;33m=\u001b[0m\u001b[1;34m'svg'\u001b[0m\u001b[1;33m)\u001b[0m\u001b[1;33m.\u001b[0m\u001b[0mdecode\u001b[0m\u001b[1;33m(\u001b[0m\u001b[0mself\u001b[0m\u001b[1;33m.\u001b[0m\u001b[0m_encoding\u001b[0m\u001b[1;33m)\u001b[0m\u001b[1;33m\u001b[0m\u001b[1;33m\u001b[0m\u001b[0m\n\u001b[0m\u001b[0;32m    107\u001b[0m \u001b[1;33m\u001b[0m\u001b[0m\n\u001b[0;32m    108\u001b[0m     \u001b[1;32mdef\u001b[0m \u001b[0mpipe\u001b[0m\u001b[1;33m(\u001b[0m\u001b[0mself\u001b[0m\u001b[1;33m,\u001b[0m \u001b[0mformat\u001b[0m\u001b[1;33m=\u001b[0m\u001b[1;32mNone\u001b[0m\u001b[1;33m)\u001b[0m\u001b[1;33m:\u001b[0m\u001b[1;33m\u001b[0m\u001b[1;33m\u001b[0m\u001b[0m\n",
      "\u001b[1;32md:\\Education\\Programming\\Cloud Computing\\AWS\\Coursera - AWS Computer Vision Getting Started with GluonCV\\MXNet-GluonCV\\lib\\site-packages\\graphviz\\files.py\u001b[0m in \u001b[0;36mpipe\u001b[1;34m(self, format)\u001b[0m\n\u001b[0;32m    123\u001b[0m         \u001b[0mdata\u001b[0m \u001b[1;33m=\u001b[0m \u001b[0mtext_type\u001b[0m\u001b[1;33m(\u001b[0m\u001b[0mself\u001b[0m\u001b[1;33m.\u001b[0m\u001b[0msource\u001b[0m\u001b[1;33m)\u001b[0m\u001b[1;33m.\u001b[0m\u001b[0mencode\u001b[0m\u001b[1;33m(\u001b[0m\u001b[0mself\u001b[0m\u001b[1;33m.\u001b[0m\u001b[0m_encoding\u001b[0m\u001b[1;33m)\u001b[0m\u001b[1;33m\u001b[0m\u001b[1;33m\u001b[0m\u001b[0m\n\u001b[0;32m    124\u001b[0m \u001b[1;33m\u001b[0m\u001b[0m\n\u001b[1;32m--> 125\u001b[1;33m         \u001b[0mouts\u001b[0m \u001b[1;33m=\u001b[0m \u001b[0mbackend\u001b[0m\u001b[1;33m.\u001b[0m\u001b[0mpipe\u001b[0m\u001b[1;33m(\u001b[0m\u001b[0mself\u001b[0m\u001b[1;33m.\u001b[0m\u001b[0m_engine\u001b[0m\u001b[1;33m,\u001b[0m \u001b[0mformat\u001b[0m\u001b[1;33m,\u001b[0m \u001b[0mdata\u001b[0m\u001b[1;33m)\u001b[0m\u001b[1;33m\u001b[0m\u001b[1;33m\u001b[0m\u001b[0m\n\u001b[0m\u001b[0;32m    126\u001b[0m \u001b[1;33m\u001b[0m\u001b[0m\n\u001b[0;32m    127\u001b[0m         \u001b[1;32mreturn\u001b[0m \u001b[0mouts\u001b[0m\u001b[1;33m\u001b[0m\u001b[1;33m\u001b[0m\u001b[0m\n",
      "\u001b[1;32md:\\Education\\Programming\\Cloud Computing\\AWS\\Coursera - AWS Computer Vision Getting Started with GluonCV\\MXNet-GluonCV\\lib\\site-packages\\graphviz\\backend.py\u001b[0m in \u001b[0;36mpipe\u001b[1;34m(engine, format, data, quiet)\u001b[0m\n\u001b[0;32m    160\u001b[0m     \u001b[1;32mexcept\u001b[0m \u001b[0mOSError\u001b[0m \u001b[1;32mas\u001b[0m \u001b[0me\u001b[0m\u001b[1;33m:\u001b[0m\u001b[1;33m\u001b[0m\u001b[1;33m\u001b[0m\u001b[0m\n\u001b[0;32m    161\u001b[0m         \u001b[1;32mif\u001b[0m \u001b[0me\u001b[0m\u001b[1;33m.\u001b[0m\u001b[0merrno\u001b[0m \u001b[1;33m==\u001b[0m \u001b[0merrno\u001b[0m\u001b[1;33m.\u001b[0m\u001b[0mENOENT\u001b[0m\u001b[1;33m:\u001b[0m\u001b[1;33m\u001b[0m\u001b[1;33m\u001b[0m\u001b[0m\n\u001b[1;32m--> 162\u001b[1;33m             \u001b[1;32mraise\u001b[0m \u001b[0mExecutableNotFound\u001b[0m\u001b[1;33m(\u001b[0m\u001b[0margs\u001b[0m\u001b[1;33m)\u001b[0m\u001b[1;33m\u001b[0m\u001b[1;33m\u001b[0m\u001b[0m\n\u001b[0m\u001b[0;32m    163\u001b[0m         \u001b[1;32melse\u001b[0m\u001b[1;33m:\u001b[0m  \u001b[1;31m# pragma: no cover\u001b[0m\u001b[1;33m\u001b[0m\u001b[1;33m\u001b[0m\u001b[0m\n\u001b[0;32m    164\u001b[0m             \u001b[1;32mraise\u001b[0m\u001b[1;33m\u001b[0m\u001b[1;33m\u001b[0m\u001b[0m\n",
      "\u001b[1;31mExecutableNotFound\u001b[0m: failed to execute ['dot', '-Tsvg'], make sure the Graphviz executables are on your systems' PATH"
     ]
    }
   ],
   "source": [
    "viz.plot_network(mobilenet(mx.sym.var('data')), shape={'data':(1,3,224,224)}, node_attrs={\"shape\":\"oval\",\"fixedsize\":\"false\"})"
   ]
  },
  {
   "source": [
    "We can also use XML tools like netron. Netron is an open source tool that accept network from different frameworks including mxnet and lets you explore them in a web UI. \n",
    "\n",
    "Let's export the computational graph of this network and load it in netron.\n",
    "\n",
    "We export it  with below code, and then we can simply go to netron and load the model."
   ],
   "cell_type": "markdown",
   "metadata": {}
  },
  {
   "cell_type": "code",
   "execution_count": 16,
   "metadata": {},
   "outputs": [],
   "source": [
    "mobilenet.hybridize()\n",
    "mobilenet(nd.ones((1,3,224,224)))\n",
    "mobilenet.export('mobile_net')"
   ]
  },
  {
   "source": [
    "Let's visualize the computational graph with netron https://lutzroeder.github.io/netron"
   ],
   "cell_type": "markdown",
   "metadata": {}
  }
 ]
}
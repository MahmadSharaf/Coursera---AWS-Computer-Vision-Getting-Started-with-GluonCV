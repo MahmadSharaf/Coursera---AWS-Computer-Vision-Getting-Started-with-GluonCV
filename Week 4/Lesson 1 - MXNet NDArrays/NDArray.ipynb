{
 "metadata": {
  "language_info": {
   "codemirror_mode": {
    "name": "ipython",
    "version": 3
   },
   "file_extension": ".py",
   "mimetype": "text/x-python",
   "name": "python",
   "nbconvert_exporter": "python",
   "pygments_lexer": "ipython3",
   "version": "3.8.3-final"
  },
  "orig_nbformat": 2,
  "kernelspec": {
   "name": "Python 3.8.3 64-bit ('MXNet-GluonCV')",
   "display_name": "Python 3.8.3 64-bit ('MXNet-GluonCV')",
   "metadata": {
    "interpreter": {
     "hash": "1c9073da4d183f4e6f849521e733f181ce81f521c1e2782e4281cfb9c5814f75"
    }
   }
  }
 },
 "nbformat": 4,
 "nbformat_minor": 2,
 "cells": [
  {
   "cell_type": "code",
   "execution_count": 10,
   "metadata": {},
   "outputs": [],
   "source": [
    "from mxnet import nd\n",
    "import mxnet as mx\n",
    "import numpy as np\n",
    "import time"
   ]
  },
  {
   "cell_type": "code",
   "execution_count": 11,
   "metadata": {},
   "outputs": [
    {
     "output_type": "execute_result",
     "data": {
      "text/plain": [
       "\n",
       "[[1. 2. 3.]\n",
       " [5. 6. 7.]]\n",
       "<NDArray 2x3 @cpu(0)>"
      ]
     },
     "metadata": {},
     "execution_count": 11
    }
   ],
   "source": [
    "# NDArray from tuples\n",
    "mx.nd.array(((1,2,3),(5,6,7)))"
   ]
  },
  {
   "cell_type": "code",
   "execution_count": 12,
   "metadata": {},
   "outputs": [
    {
     "output_type": "execute_result",
     "data": {
      "text/plain": [
       "\n",
       "[[1. 1. 1.]\n",
       " [1. 1. 1.]]\n",
       "<NDArray 2x3 @cpu(0)>"
      ]
     },
     "metadata": {},
     "execution_count": 12
    }
   ],
   "source": [
    "# NDArray from ones \n",
    "x = nd.ones(shape=(2,3))\n",
    "x"
   ]
  },
  {
   "cell_type": "code",
   "execution_count": 13,
   "metadata": {},
   "outputs": [
    {
     "output_type": "execute_result",
     "data": {
      "text/plain": [
       "\n",
       "[[ 0.08976638  0.6945034  -0.15269041]\n",
       " [ 0.24712741  0.29178822 -0.23123658]]\n",
       "<NDArray 2x3 @cpu(0)>"
      ]
     },
     "metadata": {},
     "execution_count": 13
    }
   ],
   "source": [
    "# Random\n",
    "y = nd.random.uniform(low=-1,high=1, shape=(2,3))\n",
    "y"
   ]
  },
  {
   "cell_type": "code",
   "execution_count": 14,
   "metadata": {},
   "outputs": [
    {
     "output_type": "execute_result",
     "data": {
      "text/plain": [
       "((2, 3), 6, numpy.float32, cpu(0))"
      ]
     },
     "metadata": {},
     "execution_count": 14
    }
   ],
   "source": [
    "# Shape, Size, Type, Where it stored CPU or GPU\n",
    "(x.shape, x.size, x.dtype, x.context)"
   ]
  },
  {
   "source": [
    "Type "
   ],
   "cell_type": "markdown",
   "metadata": {}
  },
  {
   "cell_type": "code",
   "execution_count": 15,
   "metadata": {},
   "outputs": [
    {
     "output_type": "execute_result",
     "data": {
      "text/plain": [
       "\n",
       "[[1 1 1]\n",
       " [1 1 1]]\n",
       "<NDArray 2x3 @cpu(0)>"
      ]
     },
     "metadata": {},
     "execution_count": 15
    }
   ],
   "source": [
    "nd.ones((2,3), dtype = np.uint8)"
   ]
  },
  {
   "cell_type": "code",
   "execution_count": 16,
   "metadata": {},
   "outputs": [
    {
     "output_type": "execute_result",
     "data": {
      "text/plain": [
       "\n",
       "[[ 0.0898  0.6943 -0.1527]\n",
       " [ 0.2471  0.2917 -0.2312]]\n",
       "<NDArray 2x3 @cpu(0)>"
      ]
     },
     "metadata": {},
     "execution_count": 16
    }
   ],
   "source": [
    "y.astype(np.float16)"
   ]
  },
  {
   "source": [
    "## Context\n",
    "Where the variable will be stored in CPU or GPU memory"
   ],
   "cell_type": "markdown",
   "metadata": {}
  },
  {
   "cell_type": "code",
   "execution_count": 17,
   "metadata": {},
   "outputs": [
    {
     "output_type": "execute_result",
     "data": {
      "text/plain": [
       "\n",
       "[[1. 1. 1.]\n",
       " [1. 1. 1.]]\n",
       "<NDArray 2x3 @cpu(0)>"
      ]
     },
     "metadata": {},
     "execution_count": 17
    }
   ],
   "source": [
    "nd.ones((2,3), ctx=mx.cpu())"
   ]
  },
  {
   "cell_type": "code",
   "execution_count": 18,
   "metadata": {},
   "outputs": [
    {
     "output_type": "execute_result",
     "data": {
      "text/plain": [
       "\n",
       "[[1. 1. 1.]\n",
       " [1. 1. 1.]]\n",
       "<NDArray 2x3 @gpu(0)>"
      ]
     },
     "metadata": {},
     "execution_count": 18
    }
   ],
   "source": [
    "nd.ones((2,3), ctx=mx.gpu())"
   ]
  },
  {
   "source": [
    "## Speed"
   ],
   "cell_type": "markdown",
   "metadata": {}
  },
  {
   "cell_type": "code",
   "execution_count": 19,
   "metadata": {},
   "outputs": [],
   "source": [
    "x_np, y_np = np.ones((1000,5000)), np.ones((5000, 1000))\n",
    "x_nd_cpu, y_nd_cpu = nd.ones((1000,5000), ctx=mx.cpu()) , nd.ones((5000,1000), ctx=mx.cpu())\n",
    "x_nd_gpu, y_nd_gpu = nd.ones((10000,5000), ctx=mx.gpu(0)) , nd.ones((5000,10000), ctx=mx.gpu(0))"
   ]
  },
  {
   "cell_type": "code",
   "execution_count": 11,
   "metadata": {},
   "outputs": [
    {
     "output_type": "stream",
     "name": "stdout",
     "text": [
      "Numpy time 25.3031s\n"
     ]
    }
   ],
   "source": [
    "tic = time.time()\n",
    "np.dot(x_np, y_np)\n",
    "print(f\"Numpy time {time.time()-tic:.4f}s\")"
   ]
  },
  {
   "cell_type": "code",
   "execution_count": 12,
   "metadata": {},
   "outputs": [
    {
     "output_type": "stream",
     "name": "stderr",
     "text": [
      "Exception ignored in: <function NDArrayBase.__del__ at 0x000001631EAF29D0>\nTraceback (most recent call last):\n  File \"d:\\Education\\Cloud Computing\\aws\\Coursera - AWS Computer Vision Getting Started with GluonCV\\MXNet-GlounCV\\lib\\site-packages\\mxnet\\_ctypes\\ndarray.py\", line 51, in __del__\n    check_call(_LIB.MXNDArrayFree(self.handle))\nKeyboardInterrupt: \n"
     ]
    }
   ],
   "source": [
    "tic = time.time()\n",
    "np.dot(x_nd_cpu, y_nd_cpu).wait_to_read()\n",
    "print(f\"MXNet CPU time {time.time()-tic:.4f}s\")"
   ]
  },
  {
   "cell_type": "code",
   "execution_count": 20,
   "metadata": {},
   "outputs": [],
   "source": [
    "tic = time.time()\n",
    "np.dot(x_nd_gpu, y_nd_gpu).wait_to_read()\n",
    "print(f\"MXNet GPU time {time.time()-tic:.4f}s\")"
   ]
  },
  {
   "source": [
    "Convert from MXNet NDArray and NumPy"
   ],
   "cell_type": "markdown",
   "metadata": {}
  },
  {
   "cell_type": "code",
   "execution_count": null,
   "metadata": {},
   "outputs": [],
   "source": [
    "a = x.asnumpy()\n",
    "(type(a), a)"
   ]
  },
  {
   "cell_type": "code",
   "execution_count": null,
   "metadata": {},
   "outputs": [],
   "source": [
    "nd.array(a)"
   ]
  },
  {
   "cell_type": "code",
   "execution_count": null,
   "metadata": {},
   "outputs": [],
   "source": []
  }
 ]
}
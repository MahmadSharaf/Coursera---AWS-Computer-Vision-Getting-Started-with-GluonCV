{
 "cells": [
  {
   "cell_type": "markdown",
   "metadata": {
    "deletable": false,
    "editable": false,
    "nbgrader": {
     "cell_type": "markdown",
     "checksum": "5074b9d54a7c4c8dae2324b8cb78e503",
     "grade": false,
     "grade_id": "cell-fc0b22c123cbdd06",
     "locked": true,
     "schema_version": 3,
     "solution": false,
     "task": false
    }
   },
   "source": [
    "# Module 4 Assignment\n",
    "\n",
    "In this assignment, you'll use some of the key concepts from the module to create a neural network for image classification of items of clothing. Step one will be to normalize the input images, and you'll use NDArray operations to calculate the channel mean. You'll create a function to evaluate the performance of networks on the data, and construct a couple of different neural networks for image classification."
   ]
  },
  {
   "cell_type": "markdown",
   "metadata": {
    "deletable": false,
    "editable": false,
    "nbgrader": {
     "cell_type": "markdown",
     "checksum": "f2bccf9794a4c9efd92100928a3f022e",
     "grade": false,
     "grade_id": "cell-abb560c26ec49a12",
     "locked": true,
     "schema_version": 3,
     "solution": false,
     "task": false
    }
   },
   "source": [
    "## 0) Setup\n",
    "\n",
    "We start with a number of required imports and set the data paths."
   ]
  },
  {
   "cell_type": "code",
   "execution_count": 2,
   "metadata": {
    "deletable": false,
    "editable": false,
    "nbgrader": {
     "cell_type": "code",
     "checksum": "e397a0e3a9f2b4ad956a4b67efb70529",
     "grade": false,
     "grade_id": "cell-f6bddc494c867188",
     "locked": true,
     "schema_version": 3,
     "solution": false,
     "task": false
    }
   },
   "outputs": [],
   "source": [
    "from matplotlib import pyplot as plt\n",
    "import mxnet as mx\n",
    "from mxnet.gluon.data.vision import transforms\n",
    "from mxnet.gluon.data.vision import FashionMNIST\n",
    "import numpy as np\n",
    "import os\n",
    "from pathlib import Path\n",
    "from tqdm import tqdm #Instantly make your loops show a smart progress meter - just wrap any iterable with tqdm(iterable), and you’re done!"
   ]
  },
  {
   "cell_type": "code",
   "execution_count": 3,
   "metadata": {
    "deletable": false,
    "editable": false,
    "nbgrader": {
     "cell_type": "code",
     "checksum": "340f681667b511ce348ad946ab4617c9",
     "grade": false,
     "grade_id": "cell-5f7e8a74007e1017",
     "locked": true,
     "schema_version": 3,
     "solution": false,
     "task": false
    }
   },
   "outputs": [],
   "source": [
    "M4_DATA = Path(os.getenv('DATA_DIR', '../../data'), 'module_4')\n",
    "M4_IMAGES = Path(M4_DATA, 'images')\n",
    "M4_MODELS = Path(M4_DATA, 'models')"
   ]
  },
  {
   "cell_type": "markdown",
   "metadata": {
    "deletable": false,
    "editable": false,
    "nbgrader": {
     "cell_type": "markdown",
     "checksum": "bb710ee3e61851413d0efa8fa50e44b5",
     "grade": false,
     "grade_id": "cell-95f0a503b6239c30",
     "locked": true,
     "schema_version": 3,
     "solution": false,
     "task": false
    }
   },
   "source": [
    "## 1) Data (& NDArray Operations)\n",
    "\n",
    "We'll use the in-built dataset called `FashionMNIST` which is a variant of the commonly used `MNIST` dataset. It consists of 60,000 training images and 10,000 test images, and each image is a 28px by 28px greyscale image. We'll start by creating the `dataset` and visualize an example image."
   ]
  },
  {
   "cell_type": "code",
   "execution_count": 4,
   "metadata": {
    "deletable": false,
    "editable": false,
    "nbgrader": {
     "cell_type": "code",
     "checksum": "1ed040aeb4a6597a4b1b6732e5ea1758",
     "grade": false,
     "grade_id": "cell-ddb747acaf729e37",
     "locked": true,
     "schema_version": 3,
     "solution": false,
     "task": false
    }
   },
   "outputs": [
    {
     "output_type": "stream",
     "name": "stdout",
     "text": [
      "Downloading ../../data/module_4/images/t10k-images-idx3-ubyte.gz from https://apache-mxnet.s3-accelerate.dualstack.amazonaws.com/gluon/dataset/fashion-mnist/t10k-images-idx3-ubyte.gz...\n",
      "Downloading ../../data/module_4/images/t10k-labels-idx1-ubyte.gz from https://apache-mxnet.s3-accelerate.dualstack.amazonaws.com/gluon/dataset/fashion-mnist/t10k-labels-idx1-ubyte.gz...\n"
     ]
    }
   ],
   "source": [
    "test_dataset = FashionMNIST(train=False, root=M4_IMAGES).transform_first(transforms.ToTensor())"
   ]
  },
  {
   "cell_type": "code",
   "execution_count": 5,
   "metadata": {},
   "outputs": [
    {
     "output_type": "execute_result",
     "data": {
      "text/plain": [
       "<matplotlib.image.AxesImage at 0x7fcf537521f0>"
      ]
     },
     "metadata": {},
     "execution_count": 5
    },
    {
     "output_type": "display_data",
     "data": {
      "text/plain": "<Figure size 432x288 with 1 Axes>",
      "image/svg+xml": "<?xml version=\"1.0\" encoding=\"utf-8\" standalone=\"no\"?>\n<!DOCTYPE svg PUBLIC \"-//W3C//DTD SVG 1.1//EN\"\n  \"http://www.w3.org/Graphics/SVG/1.1/DTD/svg11.dtd\">\n<!-- Created with matplotlib (https://matplotlib.org/) -->\n<svg height=\"248.518125pt\" version=\"1.1\" viewBox=\"0 0 251.565 248.518125\" width=\"251.565pt\" xmlns=\"http://www.w3.org/2000/svg\" xmlns:xlink=\"http://www.w3.org/1999/xlink\">\n <metadata>\n  <rdf:RDF xmlns:cc=\"http://creativecommons.org/ns#\" xmlns:dc=\"http://purl.org/dc/elements/1.1/\" xmlns:rdf=\"http://www.w3.org/1999/02/22-rdf-syntax-ns#\">\n   <cc:Work>\n    <dc:type rdf:resource=\"http://purl.org/dc/dcmitype/StillImage\"/>\n    <dc:date>2020-11-05T08:45:48.938841</dc:date>\n    <dc:format>image/svg+xml</dc:format>\n    <dc:creator>\n     <cc:Agent>\n      <dc:title>Matplotlib v3.3.2, https://matplotlib.org/</dc:title>\n     </cc:Agent>\n    </dc:creator>\n   </cc:Work>\n  </rdf:RDF>\n </metadata>\n <defs>\n  <style type=\"text/css\">*{stroke-linecap:butt;stroke-linejoin:round;}</style>\n </defs>\n <g id=\"figure_1\">\n  <g id=\"patch_1\">\n   <path d=\"M 0 248.518125 \nL 251.565 248.518125 \nL 251.565 0 \nL 0 0 \nz\n\" style=\"fill:none;\"/>\n  </g>\n  <g id=\"axes_1\">\n   <g id=\"patch_2\">\n    <path d=\"M 26.925 224.64 \nL 244.365 224.64 \nL 244.365 7.2 \nL 26.925 7.2 \nz\n\" style=\"fill:#ffffff;\"/>\n   </g>\n   <g clip-path=\"url(#pc5484a8a82)\">\n    <image height=\"218\" id=\"imageee76b625db\" transform=\"scale(1 -1)translate(0 -218)\" width=\"218\" x=\"26.925\" xlink:href=\"data:image/png;base64,\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\" y=\"-6.64\"/>\n   </g>\n   <g id=\"matplotlib.axis_1\">\n    <g id=\"xtick_1\">\n     <g id=\"line2d_1\">\n      <defs>\n       <path d=\"M 0 0 \nL 0 3.5 \n\" id=\"md573317bdf\" style=\"stroke:#000000;stroke-width:0.8;\"/>\n      </defs>\n      <g>\n       <use style=\"stroke:#000000;stroke-width:0.8;\" x=\"30.807857\" xlink:href=\"#md573317bdf\" y=\"224.64\"/>\n      </g>\n     </g>\n     <g id=\"text_1\">\n      <!-- 0 -->\n      <g transform=\"translate(27.626607 239.238437)scale(0.1 -0.1)\">\n       <defs>\n        <path d=\"M 31.78125 66.40625 \nQ 24.171875 66.40625 20.328125 58.90625 \nQ 16.5 51.421875 16.5 36.375 \nQ 16.5 21.390625 20.328125 13.890625 \nQ 24.171875 6.390625 31.78125 6.390625 \nQ 39.453125 6.390625 43.28125 13.890625 \nQ 47.125 21.390625 47.125 36.375 \nQ 47.125 51.421875 43.28125 58.90625 \nQ 39.453125 66.40625 31.78125 66.40625 \nz\nM 31.78125 74.21875 \nQ 44.046875 74.21875 50.515625 64.515625 \nQ 56.984375 54.828125 56.984375 36.375 \nQ 56.984375 17.96875 50.515625 8.265625 \nQ 44.046875 -1.421875 31.78125 -1.421875 \nQ 19.53125 -1.421875 13.0625 8.265625 \nQ 6.59375 17.96875 6.59375 36.375 \nQ 6.59375 54.828125 13.0625 64.515625 \nQ 19.53125 74.21875 31.78125 74.21875 \nz\n\" id=\"DejaVuSans-48\"/>\n       </defs>\n       <use xlink:href=\"#DejaVuSans-48\"/>\n      </g>\n     </g>\n    </g>\n    <g id=\"xtick_2\">\n     <g id=\"line2d_2\">\n      <g>\n       <use style=\"stroke:#000000;stroke-width:0.8;\" x=\"69.636429\" xlink:href=\"#md573317bdf\" y=\"224.64\"/>\n      </g>\n     </g>\n     <g id=\"text_2\">\n      <!-- 5 -->\n      <g transform=\"translate(66.455179 239.238437)scale(0.1 -0.1)\">\n       <defs>\n        <path d=\"M 10.796875 72.90625 \nL 49.515625 72.90625 \nL 49.515625 64.59375 \nL 19.828125 64.59375 \nL 19.828125 46.734375 \nQ 21.96875 47.46875 24.109375 47.828125 \nQ 26.265625 48.1875 28.421875 48.1875 \nQ 40.625 48.1875 47.75 41.5 \nQ 54.890625 34.8125 54.890625 23.390625 \nQ 54.890625 11.625 47.5625 5.09375 \nQ 40.234375 -1.421875 26.90625 -1.421875 \nQ 22.3125 -1.421875 17.546875 -0.640625 \nQ 12.796875 0.140625 7.71875 1.703125 \nL 7.71875 11.625 \nQ 12.109375 9.234375 16.796875 8.0625 \nQ 21.484375 6.890625 26.703125 6.890625 \nQ 35.15625 6.890625 40.078125 11.328125 \nQ 45.015625 15.765625 45.015625 23.390625 \nQ 45.015625 31 40.078125 35.4375 \nQ 35.15625 39.890625 26.703125 39.890625 \nQ 22.75 39.890625 18.8125 39.015625 \nQ 14.890625 38.140625 10.796875 36.28125 \nz\n\" id=\"DejaVuSans-53\"/>\n       </defs>\n       <use xlink:href=\"#DejaVuSans-53\"/>\n      </g>\n     </g>\n    </g>\n    <g id=\"xtick_3\">\n     <g id=\"line2d_3\">\n      <g>\n       <use style=\"stroke:#000000;stroke-width:0.8;\" x=\"108.465\" xlink:href=\"#md573317bdf\" y=\"224.64\"/>\n      </g>\n     </g>\n     <g id=\"text_3\">\n      <!-- 10 -->\n      <g transform=\"translate(102.1025 239.238437)scale(0.1 -0.1)\">\n       <defs>\n        <path d=\"M 12.40625 8.296875 \nL 28.515625 8.296875 \nL 28.515625 63.921875 \nL 10.984375 60.40625 \nL 10.984375 69.390625 \nL 28.421875 72.90625 \nL 38.28125 72.90625 \nL 38.28125 8.296875 \nL 54.390625 8.296875 \nL 54.390625 0 \nL 12.40625 0 \nz\n\" id=\"DejaVuSans-49\"/>\n       </defs>\n       <use xlink:href=\"#DejaVuSans-49\"/>\n       <use x=\"63.623047\" xlink:href=\"#DejaVuSans-48\"/>\n      </g>\n     </g>\n    </g>\n    <g id=\"xtick_4\">\n     <g id=\"line2d_4\">\n      <g>\n       <use style=\"stroke:#000000;stroke-width:0.8;\" x=\"147.293571\" xlink:href=\"#md573317bdf\" y=\"224.64\"/>\n      </g>\n     </g>\n     <g id=\"text_4\">\n      <!-- 15 -->\n      <g transform=\"translate(140.931071 239.238437)scale(0.1 -0.1)\">\n       <use xlink:href=\"#DejaVuSans-49\"/>\n       <use x=\"63.623047\" xlink:href=\"#DejaVuSans-53\"/>\n      </g>\n     </g>\n    </g>\n    <g id=\"xtick_5\">\n     <g id=\"line2d_5\">\n      <g>\n       <use style=\"stroke:#000000;stroke-width:0.8;\" x=\"186.122143\" xlink:href=\"#md573317bdf\" y=\"224.64\"/>\n      </g>\n     </g>\n     <g id=\"text_5\">\n      <!-- 20 -->\n      <g transform=\"translate(179.759643 239.238437)scale(0.1 -0.1)\">\n       <defs>\n        <path d=\"M 19.1875 8.296875 \nL 53.609375 8.296875 \nL 53.609375 0 \nL 7.328125 0 \nL 7.328125 8.296875 \nQ 12.9375 14.109375 22.625 23.890625 \nQ 32.328125 33.6875 34.8125 36.53125 \nQ 39.546875 41.84375 41.421875 45.53125 \nQ 43.3125 49.21875 43.3125 52.78125 \nQ 43.3125 58.59375 39.234375 62.25 \nQ 35.15625 65.921875 28.609375 65.921875 \nQ 23.96875 65.921875 18.8125 64.3125 \nQ 13.671875 62.703125 7.8125 59.421875 \nL 7.8125 69.390625 \nQ 13.765625 71.78125 18.9375 73 \nQ 24.125 74.21875 28.421875 74.21875 \nQ 39.75 74.21875 46.484375 68.546875 \nQ 53.21875 62.890625 53.21875 53.421875 \nQ 53.21875 48.921875 51.53125 44.890625 \nQ 49.859375 40.875 45.40625 35.40625 \nQ 44.1875 33.984375 37.640625 27.21875 \nQ 31.109375 20.453125 19.1875 8.296875 \nz\n\" id=\"DejaVuSans-50\"/>\n       </defs>\n       <use xlink:href=\"#DejaVuSans-50\"/>\n       <use x=\"63.623047\" xlink:href=\"#DejaVuSans-48\"/>\n      </g>\n     </g>\n    </g>\n    <g id=\"xtick_6\">\n     <g id=\"line2d_6\">\n      <g>\n       <use style=\"stroke:#000000;stroke-width:0.8;\" x=\"224.950714\" xlink:href=\"#md573317bdf\" y=\"224.64\"/>\n      </g>\n     </g>\n     <g id=\"text_6\">\n      <!-- 25 -->\n      <g transform=\"translate(218.588214 239.238437)scale(0.1 -0.1)\">\n       <use xlink:href=\"#DejaVuSans-50\"/>\n       <use x=\"63.623047\" xlink:href=\"#DejaVuSans-53\"/>\n      </g>\n     </g>\n    </g>\n   </g>\n   <g id=\"matplotlib.axis_2\">\n    <g id=\"ytick_1\">\n     <g id=\"line2d_7\">\n      <defs>\n       <path d=\"M 0 0 \nL -3.5 0 \n\" id=\"mb30fdd251a\" style=\"stroke:#000000;stroke-width:0.8;\"/>\n      </defs>\n      <g>\n       <use style=\"stroke:#000000;stroke-width:0.8;\" x=\"26.925\" xlink:href=\"#mb30fdd251a\" y=\"11.082857\"/>\n      </g>\n     </g>\n     <g id=\"text_7\">\n      <!-- 0 -->\n      <g transform=\"translate(13.5625 14.882076)scale(0.1 -0.1)\">\n       <use xlink:href=\"#DejaVuSans-48\"/>\n      </g>\n     </g>\n    </g>\n    <g id=\"ytick_2\">\n     <g id=\"line2d_8\">\n      <g>\n       <use style=\"stroke:#000000;stroke-width:0.8;\" x=\"26.925\" xlink:href=\"#mb30fdd251a\" y=\"49.911429\"/>\n      </g>\n     </g>\n     <g id=\"text_8\">\n      <!-- 5 -->\n      <g transform=\"translate(13.5625 53.710647)scale(0.1 -0.1)\">\n       <use xlink:href=\"#DejaVuSans-53\"/>\n      </g>\n     </g>\n    </g>\n    <g id=\"ytick_3\">\n     <g id=\"line2d_9\">\n      <g>\n       <use style=\"stroke:#000000;stroke-width:0.8;\" x=\"26.925\" xlink:href=\"#mb30fdd251a\" y=\"88.74\"/>\n      </g>\n     </g>\n     <g id=\"text_9\">\n      <!-- 10 -->\n      <g transform=\"translate(7.2 92.539219)scale(0.1 -0.1)\">\n       <use xlink:href=\"#DejaVuSans-49\"/>\n       <use x=\"63.623047\" xlink:href=\"#DejaVuSans-48\"/>\n      </g>\n     </g>\n    </g>\n    <g id=\"ytick_4\">\n     <g id=\"line2d_10\">\n      <g>\n       <use style=\"stroke:#000000;stroke-width:0.8;\" x=\"26.925\" xlink:href=\"#mb30fdd251a\" y=\"127.568571\"/>\n      </g>\n     </g>\n     <g id=\"text_10\">\n      <!-- 15 -->\n      <g transform=\"translate(7.2 131.36779)scale(0.1 -0.1)\">\n       <use xlink:href=\"#DejaVuSans-49\"/>\n       <use x=\"63.623047\" xlink:href=\"#DejaVuSans-53\"/>\n      </g>\n     </g>\n    </g>\n    <g id=\"ytick_5\">\n     <g id=\"line2d_11\">\n      <g>\n       <use style=\"stroke:#000000;stroke-width:0.8;\" x=\"26.925\" xlink:href=\"#mb30fdd251a\" y=\"166.397143\"/>\n      </g>\n     </g>\n     <g id=\"text_11\">\n      <!-- 20 -->\n      <g transform=\"translate(7.2 170.196362)scale(0.1 -0.1)\">\n       <use xlink:href=\"#DejaVuSans-50\"/>\n       <use x=\"63.623047\" xlink:href=\"#DejaVuSans-48\"/>\n      </g>\n     </g>\n    </g>\n    <g id=\"ytick_6\">\n     <g id=\"line2d_12\">\n      <g>\n       <use style=\"stroke:#000000;stroke-width:0.8;\" x=\"26.925\" xlink:href=\"#mb30fdd251a\" y=\"205.225714\"/>\n      </g>\n     </g>\n     <g id=\"text_12\">\n      <!-- 25 -->\n      <g transform=\"translate(7.2 209.024933)scale(0.1 -0.1)\">\n       <use xlink:href=\"#DejaVuSans-50\"/>\n       <use x=\"63.623047\" xlink:href=\"#DejaVuSans-53\"/>\n      </g>\n     </g>\n    </g>\n   </g>\n   <g id=\"patch_3\">\n    <path d=\"M 26.925 224.64 \nL 26.925 7.2 \n\" style=\"fill:none;stroke:#000000;stroke-linecap:square;stroke-linejoin:miter;stroke-width:0.8;\"/>\n   </g>\n   <g id=\"patch_4\">\n    <path d=\"M 244.365 224.64 \nL 244.365 7.2 \n\" style=\"fill:none;stroke:#000000;stroke-linecap:square;stroke-linejoin:miter;stroke-width:0.8;\"/>\n   </g>\n   <g id=\"patch_5\">\n    <path d=\"M 26.925 224.64 \nL 244.365 224.64 \n\" style=\"fill:none;stroke:#000000;stroke-linecap:square;stroke-linejoin:miter;stroke-width:0.8;\"/>\n   </g>\n   <g id=\"patch_6\">\n    <path d=\"M 26.925 7.2 \nL 244.365 7.2 \n\" style=\"fill:none;stroke:#000000;stroke-linecap:square;stroke-linejoin:miter;stroke-width:0.8;\"/>\n   </g>\n  </g>\n </g>\n <defs>\n  <clipPath id=\"pc5484a8a82\">\n   <rect height=\"217.44\" width=\"217.44\" x=\"26.925\" y=\"7.2\"/>\n  </clipPath>\n </defs>\n</svg>\n",
      "image/png": "[encoded data removed]"
     },
     "metadata": {
      "needs_background": "light"
     }
    }
   ],
   "source": [
    "sample_idx = 123\n",
    "sample_data, sample_label = test_dataset[sample_idx]\n",
    "plt.imshow(sample_data[0].asnumpy())  # 0 for first and only channel (since greyscale)."
   ]
  },
  {
   "cell_type": "markdown",
   "metadata": {
    "deletable": false,
    "editable": false,
    "nbgrader": {
     "cell_type": "markdown",
     "checksum": "ed2ca106a69f67ee2e77786e0a54f4c8",
     "grade": false,
     "grade_id": "cell-cdac79c9b0e7354e",
     "locked": true,
     "schema_version": 3,
     "solution": false,
     "task": false
    }
   },
   "source": [
    "One important step before passing images to the network is normalization: i.e. shifting and scaling the pixel values so that they are zero-centered on average and have unit variance.\n",
    "\n",
    "One method of normalization is pixelwise, where each **pixel** should have a unit normal distribution of values. Another is channelwise, where each **channel** should have a unit normal distribution of values. \n",
    "\n",
    "One of the first steps in the pixelwise approach is to calculate an 'average image' from the dataset. Using a sample of 1024 images, you should now implement a function to calculate the average intensity for every pixel. You'd typically want to calculate this from all samples of the dataset, but 1024 samples will be sufficient for now."
   ]
  },
  {
   "cell_type": "code",
   "execution_count": 6,
   "metadata": {},
   "outputs": [
    {
     "output_type": "stream",
     "name": "stdout",
     "text": [
      "(1024, 1, 28, 28)\n"
     ]
    }
   ],
   "source": [
    "test_dataloader = mx.gluon.data.DataLoader(test_dataset, shuffle=False, batch_size=1024)\n",
    "for data, label in test_dataloader:\n",
    "    break\n",
    "print(data.shape)"
   ]
  },
  {
   "cell_type": "code",
   "execution_count": 7,
   "metadata": {
    "deletable": false,
    "nbgrader": {
     "cell_type": "code",
     "checksum": "028925a530e2ed4d602226963e5e3409",
     "grade": false,
     "grade_id": "cell-c347c7c9342cbeb1",
     "locked": false,
     "schema_version": 3,
     "solution": true,
     "task": false
    }
   },
   "outputs": [],
   "source": [
    "def get_average_image_from_batch(batch):\n",
    "    \"\"\"\n",
    "    Given a batch of images, this function should calculate the 'average image'.\n",
    "    \n",
    "    :param batch: batch of images in NCHW layout.\n",
    "    :type batch: mx.nd.NDArray\n",
    "    \n",
    "    :return: average image in CHW layout.\n",
    "    :rtype: mx.nd.NDArray\n",
    "    \"\"\"\n",
    "    return mx.nd.mean(data,axis=0)\n",
    "#     raise NotImplementedError()\n",
    "    "
   ]
  },
  {
   "cell_type": "code",
   "execution_count": 8,
   "metadata": {
    "deletable": false,
    "editable": false,
    "nbgrader": {
     "cell_type": "code",
     "checksum": "7afa5949415bf47373e5760b8df699c3",
     "grade": true,
     "grade_id": "cell-1b3d8700f95a0e26",
     "locked": true,
     "points": 1,
     "schema_version": 3,
     "solution": false,
     "task": false
    }
   },
   "outputs": [
    {
     "output_type": "execute_result",
     "data": {
      "text/plain": [
       "<matplotlib.image.AxesImage at 0x7fcf5365b640>"
      ]
     },
     "metadata": {},
     "execution_count": 8
    },
    {
     "output_type": "display_data",
     "data": {
      "text/plain": "<Figure size 432x288 with 1 Axes>",
      "image/svg+xml": "<?xml version=\"1.0\" encoding=\"utf-8\" standalone=\"no\"?>\n<!DOCTYPE svg PUBLIC \"-//W3C//DTD SVG 1.1//EN\"\n  \"http://www.w3.org/Graphics/SVG/1.1/DTD/svg11.dtd\">\n<!-- Created with matplotlib (https://matplotlib.org/) -->\n<svg height=\"248.518125pt\" version=\"1.1\" viewBox=\"0 0 251.565 248.518125\" width=\"251.565pt\" xmlns=\"http://www.w3.org/2000/svg\" xmlns:xlink=\"http://www.w3.org/1999/xlink\">\n <metadata>\n  <rdf:RDF xmlns:cc=\"http://creativecommons.org/ns#\" xmlns:dc=\"http://purl.org/dc/elements/1.1/\" xmlns:rdf=\"http://www.w3.org/1999/02/22-rdf-syntax-ns#\">\n   <cc:Work>\n    <dc:type rdf:resource=\"http://purl.org/dc/dcmitype/StillImage\"/>\n    <dc:date>2020-11-05T08:45:50.213562</dc:date>\n    <dc:format>image/svg+xml</dc:format>\n    <dc:creator>\n     <cc:Agent>\n      <dc:title>Matplotlib v3.3.2, https://matplotlib.org/</dc:title>\n     </cc:Agent>\n    </dc:creator>\n   </cc:Work>\n  </rdf:RDF>\n </metadata>\n <defs>\n  <style type=\"text/css\">*{stroke-linecap:butt;stroke-linejoin:round;}</style>\n </defs>\n <g id=\"figure_1\">\n  <g id=\"patch_1\">\n   <path d=\"M 0 248.518125 \nL 251.565 248.518125 \nL 251.565 0 \nL 0 0 \nz\n\" style=\"fill:none;\"/>\n  </g>\n  <g id=\"axes_1\">\n   <g id=\"patch_2\">\n    <path d=\"M 26.925 224.64 \nL 244.365 224.64 \nL 244.365 7.2 \nL 26.925 7.2 \nz\n\" style=\"fill:#ffffff;\"/>\n   </g>\n   <g clip-path=\"url(#p4d474e973f)\">\n    <image height=\"218\" id=\"imagec193fc8441\" transform=\"scale(1 -1)translate(0 -218)\" width=\"218\" x=\"26.925\" xlink:href=\"data:image/png;base64,\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\" y=\"-6.64\"/>\n   </g>\n   <g id=\"matplotlib.axis_1\">\n    <g id=\"xtick_1\">\n     <g id=\"line2d_1\">\n      <defs>\n       <path d=\"M 0 0 \nL 0 3.5 \n\" id=\"mf9109ee8a9\" style=\"stroke:#000000;stroke-width:0.8;\"/>\n      </defs>\n      <g>\n       <use style=\"stroke:#000000;stroke-width:0.8;\" x=\"30.807857\" xlink:href=\"#mf9109ee8a9\" y=\"224.64\"/>\n      </g>\n     </g>\n     <g id=\"text_1\">\n      <!-- 0 -->\n      <g transform=\"translate(27.626607 239.238437)scale(0.1 -0.1)\">\n       <defs>\n        <path d=\"M 31.78125 66.40625 \nQ 24.171875 66.40625 20.328125 58.90625 \nQ 16.5 51.421875 16.5 36.375 \nQ 16.5 21.390625 20.328125 13.890625 \nQ 24.171875 6.390625 31.78125 6.390625 \nQ 39.453125 6.390625 43.28125 13.890625 \nQ 47.125 21.390625 47.125 36.375 \nQ 47.125 51.421875 43.28125 58.90625 \nQ 39.453125 66.40625 31.78125 66.40625 \nz\nM 31.78125 74.21875 \nQ 44.046875 74.21875 50.515625 64.515625 \nQ 56.984375 54.828125 56.984375 36.375 \nQ 56.984375 17.96875 50.515625 8.265625 \nQ 44.046875 -1.421875 31.78125 -1.421875 \nQ 19.53125 -1.421875 13.0625 8.265625 \nQ 6.59375 17.96875 6.59375 36.375 \nQ 6.59375 54.828125 13.0625 64.515625 \nQ 19.53125 74.21875 31.78125 74.21875 \nz\n\" id=\"DejaVuSans-48\"/>\n       </defs>\n       <use xlink:href=\"#DejaVuSans-48\"/>\n      </g>\n     </g>\n    </g>\n    <g id=\"xtick_2\">\n     <g id=\"line2d_2\">\n      <g>\n       <use style=\"stroke:#000000;stroke-width:0.8;\" x=\"69.636429\" xlink:href=\"#mf9109ee8a9\" y=\"224.64\"/>\n      </g>\n     </g>\n     <g id=\"text_2\">\n      <!-- 5 -->\n      <g transform=\"translate(66.455179 239.238437)scale(0.1 -0.1)\">\n       <defs>\n        <path d=\"M 10.796875 72.90625 \nL 49.515625 72.90625 \nL 49.515625 64.59375 \nL 19.828125 64.59375 \nL 19.828125 46.734375 \nQ 21.96875 47.46875 24.109375 47.828125 \nQ 26.265625 48.1875 28.421875 48.1875 \nQ 40.625 48.1875 47.75 41.5 \nQ 54.890625 34.8125 54.890625 23.390625 \nQ 54.890625 11.625 47.5625 5.09375 \nQ 40.234375 -1.421875 26.90625 -1.421875 \nQ 22.3125 -1.421875 17.546875 -0.640625 \nQ 12.796875 0.140625 7.71875 1.703125 \nL 7.71875 11.625 \nQ 12.109375 9.234375 16.796875 8.0625 \nQ 21.484375 6.890625 26.703125 6.890625 \nQ 35.15625 6.890625 40.078125 11.328125 \nQ 45.015625 15.765625 45.015625 23.390625 \nQ 45.015625 31 40.078125 35.4375 \nQ 35.15625 39.890625 26.703125 39.890625 \nQ 22.75 39.890625 18.8125 39.015625 \nQ 14.890625 38.140625 10.796875 36.28125 \nz\n\" id=\"DejaVuSans-53\"/>\n       </defs>\n       <use xlink:href=\"#DejaVuSans-53\"/>\n      </g>\n     </g>\n    </g>\n    <g id=\"xtick_3\">\n     <g id=\"line2d_3\">\n      <g>\n       <use style=\"stroke:#000000;stroke-width:0.8;\" x=\"108.465\" xlink:href=\"#mf9109ee8a9\" y=\"224.64\"/>\n      </g>\n     </g>\n     <g id=\"text_3\">\n      <!-- 10 -->\n      <g transform=\"translate(102.1025 239.238437)scale(0.1 -0.1)\">\n       <defs>\n        <path d=\"M 12.40625 8.296875 \nL 28.515625 8.296875 \nL 28.515625 63.921875 \nL 10.984375 60.40625 \nL 10.984375 69.390625 \nL 28.421875 72.90625 \nL 38.28125 72.90625 \nL 38.28125 8.296875 \nL 54.390625 8.296875 \nL 54.390625 0 \nL 12.40625 0 \nz\n\" id=\"DejaVuSans-49\"/>\n       </defs>\n       <use xlink:href=\"#DejaVuSans-49\"/>\n       <use x=\"63.623047\" xlink:href=\"#DejaVuSans-48\"/>\n      </g>\n     </g>\n    </g>\n    <g id=\"xtick_4\">\n     <g id=\"line2d_4\">\n      <g>\n       <use style=\"stroke:#000000;stroke-width:0.8;\" x=\"147.293571\" xlink:href=\"#mf9109ee8a9\" y=\"224.64\"/>\n      </g>\n     </g>\n     <g id=\"text_4\">\n      <!-- 15 -->\n      <g transform=\"translate(140.931071 239.238437)scale(0.1 -0.1)\">\n       <use xlink:href=\"#DejaVuSans-49\"/>\n       <use x=\"63.623047\" xlink:href=\"#DejaVuSans-53\"/>\n      </g>\n     </g>\n    </g>\n    <g id=\"xtick_5\">\n     <g id=\"line2d_5\">\n      <g>\n       <use style=\"stroke:#000000;stroke-width:0.8;\" x=\"186.122143\" xlink:href=\"#mf9109ee8a9\" y=\"224.64\"/>\n      </g>\n     </g>\n     <g id=\"text_5\">\n      <!-- 20 -->\n      <g transform=\"translate(179.759643 239.238437)scale(0.1 -0.1)\">\n       <defs>\n        <path d=\"M 19.1875 8.296875 \nL 53.609375 8.296875 \nL 53.609375 0 \nL 7.328125 0 \nL 7.328125 8.296875 \nQ 12.9375 14.109375 22.625 23.890625 \nQ 32.328125 33.6875 34.8125 36.53125 \nQ 39.546875 41.84375 41.421875 45.53125 \nQ 43.3125 49.21875 43.3125 52.78125 \nQ 43.3125 58.59375 39.234375 62.25 \nQ 35.15625 65.921875 28.609375 65.921875 \nQ 23.96875 65.921875 18.8125 64.3125 \nQ 13.671875 62.703125 7.8125 59.421875 \nL 7.8125 69.390625 \nQ 13.765625 71.78125 18.9375 73 \nQ 24.125 74.21875 28.421875 74.21875 \nQ 39.75 74.21875 46.484375 68.546875 \nQ 53.21875 62.890625 53.21875 53.421875 \nQ 53.21875 48.921875 51.53125 44.890625 \nQ 49.859375 40.875 45.40625 35.40625 \nQ 44.1875 33.984375 37.640625 27.21875 \nQ 31.109375 20.453125 19.1875 8.296875 \nz\n\" id=\"DejaVuSans-50\"/>\n       </defs>\n       <use xlink:href=\"#DejaVuSans-50\"/>\n       <use x=\"63.623047\" xlink:href=\"#DejaVuSans-48\"/>\n      </g>\n     </g>\n    </g>\n    <g id=\"xtick_6\">\n     <g id=\"line2d_6\">\n      <g>\n       <use style=\"stroke:#000000;stroke-width:0.8;\" x=\"224.950714\" xlink:href=\"#mf9109ee8a9\" y=\"224.64\"/>\n      </g>\n     </g>\n     <g id=\"text_6\">\n      <!-- 25 -->\n      <g transform=\"translate(218.588214 239.238437)scale(0.1 -0.1)\">\n       <use xlink:href=\"#DejaVuSans-50\"/>\n       <use x=\"63.623047\" xlink:href=\"#DejaVuSans-53\"/>\n      </g>\n     </g>\n    </g>\n   </g>\n   <g id=\"matplotlib.axis_2\">\n    <g id=\"ytick_1\">\n     <g id=\"line2d_7\">\n      <defs>\n       <path d=\"M 0 0 \nL -3.5 0 \n\" id=\"m5616da9702\" style=\"stroke:#000000;stroke-width:0.8;\"/>\n      </defs>\n      <g>\n       <use style=\"stroke:#000000;stroke-width:0.8;\" x=\"26.925\" xlink:href=\"#m5616da9702\" y=\"11.082857\"/>\n      </g>\n     </g>\n     <g id=\"text_7\">\n      <!-- 0 -->\n      <g transform=\"translate(13.5625 14.882076)scale(0.1 -0.1)\">\n       <use xlink:href=\"#DejaVuSans-48\"/>\n      </g>\n     </g>\n    </g>\n    <g id=\"ytick_2\">\n     <g id=\"line2d_8\">\n      <g>\n       <use style=\"stroke:#000000;stroke-width:0.8;\" x=\"26.925\" xlink:href=\"#m5616da9702\" y=\"49.911429\"/>\n      </g>\n     </g>\n     <g id=\"text_8\">\n      <!-- 5 -->\n      <g transform=\"translate(13.5625 53.710647)scale(0.1 -0.1)\">\n       <use xlink:href=\"#DejaVuSans-53\"/>\n      </g>\n     </g>\n    </g>\n    <g id=\"ytick_3\">\n     <g id=\"line2d_9\">\n      <g>\n       <use style=\"stroke:#000000;stroke-width:0.8;\" x=\"26.925\" xlink:href=\"#m5616da9702\" y=\"88.74\"/>\n      </g>\n     </g>\n     <g id=\"text_9\">\n      <!-- 10 -->\n      <g transform=\"translate(7.2 92.539219)scale(0.1 -0.1)\">\n       <use xlink:href=\"#DejaVuSans-49\"/>\n       <use x=\"63.623047\" xlink:href=\"#DejaVuSans-48\"/>\n      </g>\n     </g>\n    </g>\n    <g id=\"ytick_4\">\n     <g id=\"line2d_10\">\n      <g>\n       <use style=\"stroke:#000000;stroke-width:0.8;\" x=\"26.925\" xlink:href=\"#m5616da9702\" y=\"127.568571\"/>\n      </g>\n     </g>\n     <g id=\"text_10\">\n      <!-- 15 -->\n      <g transform=\"translate(7.2 131.36779)scale(0.1 -0.1)\">\n       <use xlink:href=\"#DejaVuSans-49\"/>\n       <use x=\"63.623047\" xlink:href=\"#DejaVuSans-53\"/>\n      </g>\n     </g>\n    </g>\n    <g id=\"ytick_5\">\n     <g id=\"line2d_11\">\n      <g>\n       <use style=\"stroke:#000000;stroke-width:0.8;\" x=\"26.925\" xlink:href=\"#m5616da9702\" y=\"166.397143\"/>\n      </g>\n     </g>\n     <g id=\"text_11\">\n      <!-- 20 -->\n      <g transform=\"translate(7.2 170.196362)scale(0.1 -0.1)\">\n       <use xlink:href=\"#DejaVuSans-50\"/>\n       <use x=\"63.623047\" xlink:href=\"#DejaVuSans-48\"/>\n      </g>\n     </g>\n    </g>\n    <g id=\"ytick_6\">\n     <g id=\"line2d_12\">\n      <g>\n       <use style=\"stroke:#000000;stroke-width:0.8;\" x=\"26.925\" xlink:href=\"#m5616da9702\" y=\"205.225714\"/>\n      </g>\n     </g>\n     <g id=\"text_12\">\n      <!-- 25 -->\n      <g transform=\"translate(7.2 209.024933)scale(0.1 -0.1)\">\n       <use xlink:href=\"#DejaVuSans-50\"/>\n       <use x=\"63.623047\" xlink:href=\"#DejaVuSans-53\"/>\n      </g>\n     </g>\n    </g>\n   </g>\n   <g id=\"patch_3\">\n    <path d=\"M 26.925 224.64 \nL 26.925 7.2 \n\" style=\"fill:none;stroke:#000000;stroke-linecap:square;stroke-linejoin:miter;stroke-width:0.8;\"/>\n   </g>\n   <g id=\"patch_4\">\n    <path d=\"M 244.365 224.64 \nL 244.365 7.2 \n\" style=\"fill:none;stroke:#000000;stroke-linecap:square;stroke-linejoin:miter;stroke-width:0.8;\"/>\n   </g>\n   <g id=\"patch_5\">\n    <path d=\"M 26.925 224.64 \nL 244.365 224.64 \n\" style=\"fill:none;stroke:#000000;stroke-linecap:square;stroke-linejoin:miter;stroke-width:0.8;\"/>\n   </g>\n   <g id=\"patch_6\">\n    <path d=\"M 26.925 7.2 \nL 244.365 7.2 \n\" style=\"fill:none;stroke:#000000;stroke-linecap:square;stroke-linejoin:miter;stroke-width:0.8;\"/>\n   </g>\n  </g>\n </g>\n <defs>\n  <clipPath id=\"p4d474e973f\">\n   <rect height=\"217.44\" width=\"217.44\" x=\"26.925\" y=\"7.2\"/>\n  </clipPath>\n </defs>\n</svg>\n",
      "image/png": "[encoded data removed]"
     },
     "metadata": {
      "needs_background": "light"
     }
    }
   ],
   "source": [
    "average_image = get_average_image_from_batch(data)\n",
    "assert average_image.shape == (1, 28, 28)\n",
    "plt.imshow(average_image[0].asnumpy())  # 0 for first and only channel (since greyscale)."
   ]
  },
  {
   "cell_type": "markdown",
   "metadata": {
    "deletable": false,
    "editable": false,
    "nbgrader": {
     "cell_type": "markdown",
     "checksum": "1c60c3d88653d4d13ddfc97a891d2041",
     "grade": false,
     "grade_id": "cell-8289081a2395a032",
     "locked": true,
     "schema_version": 3,
     "solution": false,
     "task": false
    }
   },
   "source": [
    "Using the average image that was calculated above, you should now implement a function to perform the pixelwise normalization."
   ]
  },
  {
   "cell_type": "code",
   "execution_count": 9,
   "metadata": {
    "deletable": false,
    "nbgrader": {
     "cell_type": "code",
     "checksum": "237357a2b5ce96f61e37e68a000aae79",
     "grade": false,
     "grade_id": "cell-970eddb5f76be1f0",
     "locked": false,
     "schema_version": 3,
     "solution": true,
     "task": false
    }
   },
   "outputs": [],
   "source": [
    "def subtract_average_image(sample, average_image):\n",
    "    \"\"\"\n",
    "    Given a sample images, this function should return a pixelwise normalized image,\n",
    "    using a pre-calculated average image.\n",
    "    \n",
    "    :param sample: sample image in CHW layout.\n",
    "    :type sample: mx.nd.NDArray\n",
    "    :param average_image: average image of the dataset in CHW layout.\n",
    "    :type average_image: mx.nd.NDArray\n",
    "    \n",
    "    :return: pixelwise normalized image in CHW layout.\n",
    "    :rtype: mx.nd.NDArray\n",
    "    \"\"\"\n",
    "    return sample_data - average_image\n",
    "    raise NotImplementedError()"
   ]
  },
  {
   "cell_type": "code",
   "execution_count": 10,
   "metadata": {
    "deletable": false,
    "editable": false,
    "nbgrader": {
     "cell_type": "code",
     "checksum": "93a9e45c83be15ffd405137234e41c24",
     "grade": true,
     "grade_id": "cell-4f8cfd20e9027638",
     "locked": true,
     "points": 1,
     "schema_version": 3,
     "solution": false,
     "task": false
    }
   },
   "outputs": [
    {
     "output_type": "execute_result",
     "data": {
      "text/plain": [
       "<matplotlib.image.AxesImage at 0x7fcf535b8340>"
      ]
     },
     "metadata": {},
     "execution_count": 10
    },
    {
     "output_type": "display_data",
     "data": {
      "text/plain": "<Figure size 432x288 with 1 Axes>",
      "image/svg+xml": "<?xml version=\"1.0\" encoding=\"utf-8\" standalone=\"no\"?>\n<!DOCTYPE svg PUBLIC \"-//W3C//DTD SVG 1.1//EN\"\n  \"http://www.w3.org/Graphics/SVG/1.1/DTD/svg11.dtd\">\n<!-- Created with matplotlib (https://matplotlib.org/) -->\n<svg height=\"248.518125pt\" version=\"1.1\" viewBox=\"0 0 251.565 248.518125\" width=\"251.565pt\" xmlns=\"http://www.w3.org/2000/svg\" xmlns:xlink=\"http://www.w3.org/1999/xlink\">\n <metadata>\n  <rdf:RDF xmlns:cc=\"http://creativecommons.org/ns#\" xmlns:dc=\"http://purl.org/dc/elements/1.1/\" xmlns:rdf=\"http://www.w3.org/1999/02/22-rdf-syntax-ns#\">\n   <cc:Work>\n    <dc:type rdf:resource=\"http://purl.org/dc/dcmitype/StillImage\"/>\n    <dc:date>2020-11-05T08:45:51.210632</dc:date>\n    <dc:format>image/svg+xml</dc:format>\n    <dc:creator>\n     <cc:Agent>\n      <dc:title>Matplotlib v3.3.2, https://matplotlib.org/</dc:title>\n     </cc:Agent>\n    </dc:creator>\n   </cc:Work>\n  </rdf:RDF>\n </metadata>\n <defs>\n  <style type=\"text/css\">*{stroke-linecap:butt;stroke-linejoin:round;}</style>\n </defs>\n <g id=\"figure_1\">\n  <g id=\"patch_1\">\n   <path d=\"M 0 248.518125 \nL 251.565 248.518125 \nL 251.565 0 \nL 0 0 \nz\n\" style=\"fill:none;\"/>\n  </g>\n  <g id=\"axes_1\">\n   <g id=\"patch_2\">\n    <path d=\"M 26.925 224.64 \nL 244.365 224.64 \nL 244.365 7.2 \nL 26.925 7.2 \nz\n\" style=\"fill:#ffffff;\"/>\n   </g>\n   <g clip-path=\"url(#pf9d0df1c25)\">\n    <image height=\"218\" id=\"image454168bc33\" transform=\"scale(1 -1)translate(0 -218)\" width=\"218\" x=\"26.925\" xlink:href=\"data:image/png;base64,\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\" y=\"-6.64\"/>\n   </g>\n   <g id=\"matplotlib.axis_1\">\n    <g id=\"xtick_1\">\n     <g id=\"line2d_1\">\n      <defs>\n       <path d=\"M 0 0 \nL 0 3.5 \n\" id=\"m0ea47cb79c\" style=\"stroke:#000000;stroke-width:0.8;\"/>\n      </defs>\n      <g>\n       <use style=\"stroke:#000000;stroke-width:0.8;\" x=\"30.807857\" xlink:href=\"#m0ea47cb79c\" y=\"224.64\"/>\n      </g>\n     </g>\n     <g id=\"text_1\">\n      <!-- 0 -->\n      <g transform=\"translate(27.626607 239.238437)scale(0.1 -0.1)\">\n       <defs>\n        <path d=\"M 31.78125 66.40625 \nQ 24.171875 66.40625 20.328125 58.90625 \nQ 16.5 51.421875 16.5 36.375 \nQ 16.5 21.390625 20.328125 13.890625 \nQ 24.171875 6.390625 31.78125 6.390625 \nQ 39.453125 6.390625 43.28125 13.890625 \nQ 47.125 21.390625 47.125 36.375 \nQ 47.125 51.421875 43.28125 58.90625 \nQ 39.453125 66.40625 31.78125 66.40625 \nz\nM 31.78125 74.21875 \nQ 44.046875 74.21875 50.515625 64.515625 \nQ 56.984375 54.828125 56.984375 36.375 \nQ 56.984375 17.96875 50.515625 8.265625 \nQ 44.046875 -1.421875 31.78125 -1.421875 \nQ 19.53125 -1.421875 13.0625 8.265625 \nQ 6.59375 17.96875 6.59375 36.375 \nQ 6.59375 54.828125 13.0625 64.515625 \nQ 19.53125 74.21875 31.78125 74.21875 \nz\n\" id=\"DejaVuSans-48\"/>\n       </defs>\n       <use xlink:href=\"#DejaVuSans-48\"/>\n      </g>\n     </g>\n    </g>\n    <g id=\"xtick_2\">\n     <g id=\"line2d_2\">\n      <g>\n       <use style=\"stroke:#000000;stroke-width:0.8;\" x=\"69.636429\" xlink:href=\"#m0ea47cb79c\" y=\"224.64\"/>\n      </g>\n     </g>\n     <g id=\"text_2\">\n      <!-- 5 -->\n      <g transform=\"translate(66.455179 239.238437)scale(0.1 -0.1)\">\n       <defs>\n        <path d=\"M 10.796875 72.90625 \nL 49.515625 72.90625 \nL 49.515625 64.59375 \nL 19.828125 64.59375 \nL 19.828125 46.734375 \nQ 21.96875 47.46875 24.109375 47.828125 \nQ 26.265625 48.1875 28.421875 48.1875 \nQ 40.625 48.1875 47.75 41.5 \nQ 54.890625 34.8125 54.890625 23.390625 \nQ 54.890625 11.625 47.5625 5.09375 \nQ 40.234375 -1.421875 26.90625 -1.421875 \nQ 22.3125 -1.421875 17.546875 -0.640625 \nQ 12.796875 0.140625 7.71875 1.703125 \nL 7.71875 11.625 \nQ 12.109375 9.234375 16.796875 8.0625 \nQ 21.484375 6.890625 26.703125 6.890625 \nQ 35.15625 6.890625 40.078125 11.328125 \nQ 45.015625 15.765625 45.015625 23.390625 \nQ 45.015625 31 40.078125 35.4375 \nQ 35.15625 39.890625 26.703125 39.890625 \nQ 22.75 39.890625 18.8125 39.015625 \nQ 14.890625 38.140625 10.796875 36.28125 \nz\n\" id=\"DejaVuSans-53\"/>\n       </defs>\n       <use xlink:href=\"#DejaVuSans-53\"/>\n      </g>\n     </g>\n    </g>\n    <g id=\"xtick_3\">\n     <g id=\"line2d_3\">\n      <g>\n       <use style=\"stroke:#000000;stroke-width:0.8;\" x=\"108.465\" xlink:href=\"#m0ea47cb79c\" y=\"224.64\"/>\n      </g>\n     </g>\n     <g id=\"text_3\">\n      <!-- 10 -->\n      <g transform=\"translate(102.1025 239.238437)scale(0.1 -0.1)\">\n       <defs>\n        <path d=\"M 12.40625 8.296875 \nL 28.515625 8.296875 \nL 28.515625 63.921875 \nL 10.984375 60.40625 \nL 10.984375 69.390625 \nL 28.421875 72.90625 \nL 38.28125 72.90625 \nL 38.28125 8.296875 \nL 54.390625 8.296875 \nL 54.390625 0 \nL 12.40625 0 \nz\n\" id=\"DejaVuSans-49\"/>\n       </defs>\n       <use xlink:href=\"#DejaVuSans-49\"/>\n       <use x=\"63.623047\" xlink:href=\"#DejaVuSans-48\"/>\n      </g>\n     </g>\n    </g>\n    <g id=\"xtick_4\">\n     <g id=\"line2d_4\">\n      <g>\n       <use style=\"stroke:#000000;stroke-width:0.8;\" x=\"147.293571\" xlink:href=\"#m0ea47cb79c\" y=\"224.64\"/>\n      </g>\n     </g>\n     <g id=\"text_4\">\n      <!-- 15 -->\n      <g transform=\"translate(140.931071 239.238437)scale(0.1 -0.1)\">\n       <use xlink:href=\"#DejaVuSans-49\"/>\n       <use x=\"63.623047\" xlink:href=\"#DejaVuSans-53\"/>\n      </g>\n     </g>\n    </g>\n    <g id=\"xtick_5\">\n     <g id=\"line2d_5\">\n      <g>\n       <use style=\"stroke:#000000;stroke-width:0.8;\" x=\"186.122143\" xlink:href=\"#m0ea47cb79c\" y=\"224.64\"/>\n      </g>\n     </g>\n     <g id=\"text_5\">\n      <!-- 20 -->\n      <g transform=\"translate(179.759643 239.238437)scale(0.1 -0.1)\">\n       <defs>\n        <path d=\"M 19.1875 8.296875 \nL 53.609375 8.296875 \nL 53.609375 0 \nL 7.328125 0 \nL 7.328125 8.296875 \nQ 12.9375 14.109375 22.625 23.890625 \nQ 32.328125 33.6875 34.8125 36.53125 \nQ 39.546875 41.84375 41.421875 45.53125 \nQ 43.3125 49.21875 43.3125 52.78125 \nQ 43.3125 58.59375 39.234375 62.25 \nQ 35.15625 65.921875 28.609375 65.921875 \nQ 23.96875 65.921875 18.8125 64.3125 \nQ 13.671875 62.703125 7.8125 59.421875 \nL 7.8125 69.390625 \nQ 13.765625 71.78125 18.9375 73 \nQ 24.125 74.21875 28.421875 74.21875 \nQ 39.75 74.21875 46.484375 68.546875 \nQ 53.21875 62.890625 53.21875 53.421875 \nQ 53.21875 48.921875 51.53125 44.890625 \nQ 49.859375 40.875 45.40625 35.40625 \nQ 44.1875 33.984375 37.640625 27.21875 \nQ 31.109375 20.453125 19.1875 8.296875 \nz\n\" id=\"DejaVuSans-50\"/>\n       </defs>\n       <use xlink:href=\"#DejaVuSans-50\"/>\n       <use x=\"63.623047\" xlink:href=\"#DejaVuSans-48\"/>\n      </g>\n     </g>\n    </g>\n    <g id=\"xtick_6\">\n     <g id=\"line2d_6\">\n      <g>\n       <use style=\"stroke:#000000;stroke-width:0.8;\" x=\"224.950714\" xlink:href=\"#m0ea47cb79c\" y=\"224.64\"/>\n      </g>\n     </g>\n     <g id=\"text_6\">\n      <!-- 25 -->\n      <g transform=\"translate(218.588214 239.238437)scale(0.1 -0.1)\">\n       <use xlink:href=\"#DejaVuSans-50\"/>\n       <use x=\"63.623047\" xlink:href=\"#DejaVuSans-53\"/>\n      </g>\n     </g>\n    </g>\n   </g>\n   <g id=\"matplotlib.axis_2\">\n    <g id=\"ytick_1\">\n     <g id=\"line2d_7\">\n      <defs>\n       <path d=\"M 0 0 \nL -3.5 0 \n\" id=\"mbde2e60e17\" style=\"stroke:#000000;stroke-width:0.8;\"/>\n      </defs>\n      <g>\n       <use style=\"stroke:#000000;stroke-width:0.8;\" x=\"26.925\" xlink:href=\"#mbde2e60e17\" y=\"11.082857\"/>\n      </g>\n     </g>\n     <g id=\"text_7\">\n      <!-- 0 -->\n      <g transform=\"translate(13.5625 14.882076)scale(0.1 -0.1)\">\n       <use xlink:href=\"#DejaVuSans-48\"/>\n      </g>\n     </g>\n    </g>\n    <g id=\"ytick_2\">\n     <g id=\"line2d_8\">\n      <g>\n       <use style=\"stroke:#000000;stroke-width:0.8;\" x=\"26.925\" xlink:href=\"#mbde2e60e17\" y=\"49.911429\"/>\n      </g>\n     </g>\n     <g id=\"text_8\">\n      <!-- 5 -->\n      <g transform=\"translate(13.5625 53.710647)scale(0.1 -0.1)\">\n       <use xlink:href=\"#DejaVuSans-53\"/>\n      </g>\n     </g>\n    </g>\n    <g id=\"ytick_3\">\n     <g id=\"line2d_9\">\n      <g>\n       <use style=\"stroke:#000000;stroke-width:0.8;\" x=\"26.925\" xlink:href=\"#mbde2e60e17\" y=\"88.74\"/>\n      </g>\n     </g>\n     <g id=\"text_9\">\n      <!-- 10 -->\n      <g transform=\"translate(7.2 92.539219)scale(0.1 -0.1)\">\n       <use xlink:href=\"#DejaVuSans-49\"/>\n       <use x=\"63.623047\" xlink:href=\"#DejaVuSans-48\"/>\n      </g>\n     </g>\n    </g>\n    <g id=\"ytick_4\">\n     <g id=\"line2d_10\">\n      <g>\n       <use style=\"stroke:#000000;stroke-width:0.8;\" x=\"26.925\" xlink:href=\"#mbde2e60e17\" y=\"127.568571\"/>\n      </g>\n     </g>\n     <g id=\"text_10\">\n      <!-- 15 -->\n      <g transform=\"translate(7.2 131.36779)scale(0.1 -0.1)\">\n       <use xlink:href=\"#DejaVuSans-49\"/>\n       <use x=\"63.623047\" xlink:href=\"#DejaVuSans-53\"/>\n      </g>\n     </g>\n    </g>\n    <g id=\"ytick_5\">\n     <g id=\"line2d_11\">\n      <g>\n       <use style=\"stroke:#000000;stroke-width:0.8;\" x=\"26.925\" xlink:href=\"#mbde2e60e17\" y=\"166.397143\"/>\n      </g>\n     </g>\n     <g id=\"text_11\">\n      <!-- 20 -->\n      <g transform=\"translate(7.2 170.196362)scale(0.1 -0.1)\">\n       <use xlink:href=\"#DejaVuSans-50\"/>\n       <use x=\"63.623047\" xlink:href=\"#DejaVuSans-48\"/>\n      </g>\n     </g>\n    </g>\n    <g id=\"ytick_6\">\n     <g id=\"line2d_12\">\n      <g>\n       <use style=\"stroke:#000000;stroke-width:0.8;\" x=\"26.925\" xlink:href=\"#mbde2e60e17\" y=\"205.225714\"/>\n      </g>\n     </g>\n     <g id=\"text_12\">\n      <!-- 25 -->\n      <g transform=\"translate(7.2 209.024933)scale(0.1 -0.1)\">\n       <use xlink:href=\"#DejaVuSans-50\"/>\n       <use x=\"63.623047\" xlink:href=\"#DejaVuSans-53\"/>\n      </g>\n     </g>\n    </g>\n   </g>\n   <g id=\"patch_3\">\n    <path d=\"M 26.925 224.64 \nL 26.925 7.2 \n\" style=\"fill:none;stroke:#000000;stroke-linecap:square;stroke-linejoin:miter;stroke-width:0.8;\"/>\n   </g>\n   <g id=\"patch_4\">\n    <path d=\"M 244.365 224.64 \nL 244.365 7.2 \n\" style=\"fill:none;stroke:#000000;stroke-linecap:square;stroke-linejoin:miter;stroke-width:0.8;\"/>\n   </g>\n   <g id=\"patch_5\">\n    <path d=\"M 26.925 224.64 \nL 244.365 224.64 \n\" style=\"fill:none;stroke:#000000;stroke-linecap:square;stroke-linejoin:miter;stroke-width:0.8;\"/>\n   </g>\n   <g id=\"patch_6\">\n    <path d=\"M 26.925 7.2 \nL 244.365 7.2 \n\" style=\"fill:none;stroke:#000000;stroke-linecap:square;stroke-linejoin:miter;stroke-width:0.8;\"/>\n   </g>\n  </g>\n </g>\n <defs>\n  <clipPath id=\"pf9d0df1c25\">\n   <rect height=\"217.44\" width=\"217.44\" x=\"26.925\" y=\"7.2\"/>\n  </clipPath>\n </defs>\n</svg>\n",
      "image/png": "[encoded data removed]"
     },
     "metadata": {
      "needs_background": "light"
     }
    }
   ],
   "source": [
    "normalized_sample_data = subtract_average_image(sample_data, average_image)\n",
    "assert normalized_sample_data.shape == (1, 28, 28)\n",
    "np.testing.assert_array_almost_equal(normalized_sample_data.asnumpy(), (sample_data - average_image).asnumpy())\n",
    "plt.imshow(normalized_sample_data[0].asnumpy())  # 0 for first and only channel (since greyscale)."
   ]
  },
  {
   "cell_type": "markdown",
   "metadata": {},
   "source": [
    "You've now created a transform for pixelwise normalization! As mentioned previously, another common method for normalization is channelwise normalization. Complete the following function to calculate the channel averages from a batch of multi-channel inputs.\n",
    "\n",
    "Note: although the image from our dataset only have one channel, your function should support cases where there are more than one channel (e.g. RGB images).\n",
    "\n",
    "**Hint**: Check out the `axis` (or `dim`) arguments on MXNet NDArray functions."
   ]
  },
  {
   "cell_type": "code",
   "execution_count": 11,
   "metadata": {
    "deletable": false,
    "nbgrader": {
     "cell_type": "code",
     "checksum": "a20aa5394fbb2a4d50af68667ed995c6",
     "grade": false,
     "grade_id": "cell-d2bd82c63c0c28c9",
     "locked": false,
     "schema_version": 3,
     "solution": true,
     "task": false
    }
   },
   "outputs": [],
   "source": [
    "def get_channel_average_from_batch(batch):\n",
    "    \"\"\"\n",
    "    Given a batch of images, this function should return the\n",
    "    average value for each channel across the images of the batch.\n",
    "    \n",
    "    :param batch: batch of images in NCHW layout.\n",
    "    :type batch: mx.nd.NDArray\n",
    "    \n",
    "    :return: channel averages in C layout.\n",
    "    :rtype: mx.nd.NDArray\n",
    "    \"\"\"\n",
    "    return mx.nd.mean(batch,axis=1,exclude=True)"
   ]
  },
  {
   "cell_type": "code",
   "execution_count": 12,
   "metadata": {
    "deletable": false,
    "editable": false,
    "nbgrader": {
     "cell_type": "code",
     "checksum": "61ce9104b23fdb0b51a498914c9375b3",
     "grade": true,
     "grade_id": "cell-1132428ff435fdff",
     "locked": true,
     "points": 1,
     "schema_version": 3,
     "solution": false,
     "task": false
    },
    "scrolled": true
   },
   "outputs": [
    {
     "output_type": "stream",
     "name": "stdout",
     "text": [
      "0.28757906\n"
     ]
    }
   ],
   "source": [
    "channel_average = get_channel_average_from_batch(data).asscalar()\n",
    "print(channel_average)\n",
    "assert isinstance(channel_average, np.float32)\n",
    "np.testing.assert_almost_equal(channel_average, 0.28757906, decimal=5)\n",
    "\n",
    "test_averages = mx.nd.array([1,2,3,4])\n",
    "test_input = mx.nd.reshape(test_averages, shape=(1,4,1,1)) * mx.nd.ones(shape=(10,4,25,25))\n",
    "test_channel_average = get_channel_average_from_batch(test_input)\n",
    "np.testing.assert_array_almost_equal(test_averages.asnumpy(), test_channel_average.asnumpy())"
   ]
  },
  {
   "cell_type": "markdown",
   "metadata": {
    "deletable": false,
    "editable": false,
    "nbgrader": {
     "cell_type": "markdown",
     "checksum": "ebf52b1649339c3bc81609fd7d8eb8a6",
     "grade": false,
     "grade_id": "cell-2fea1fe63abd02d1",
     "locked": true,
     "schema_version": 3,
     "solution": false,
     "task": false
    }
   },
   "source": [
    "Using this channel average, we can use the `Normalize` transform to apply this to all samples in our dataset as they are loaded."
   ]
  },
  {
   "cell_type": "code",
   "execution_count": 13,
   "metadata": {
    "deletable": false,
    "editable": false,
    "nbgrader": {
     "cell_type": "code",
     "checksum": "7c8c7678fffe3316b1d26df20948d9d3",
     "grade": false,
     "grade_id": "cell-1406cf76c0bf2d9c",
     "locked": true,
     "schema_version": 3,
     "solution": false,
     "task": false
    }
   },
   "outputs": [],
   "source": [
    "channel_std = 0.31\n",
    "transform = transforms.Compose([\n",
    "    transforms.ToTensor(),\n",
    "    transforms.Normalize(channel_average, channel_std)\n",
    "])"
   ]
  },
  {
   "cell_type": "code",
   "execution_count": 14,
   "metadata": {
    "deletable": false,
    "editable": false,
    "nbgrader": {
     "cell_type": "code",
     "checksum": "997486e117bb21d91c6c6d2e1793d5e1",
     "grade": false,
     "grade_id": "cell-09b598f5df48310e",
     "locked": true,
     "schema_version": 3,
     "solution": false,
     "task": false
    }
   },
   "outputs": [
    {
     "output_type": "stream",
     "name": "stdout",
     "text": [
      "Downloading ../../data/module_4/images/train-images-idx3-ubyte.gz from https://apache-mxnet.s3-accelerate.dualstack.amazonaws.com/gluon/dataset/fashion-mnist/train-images-idx3-ubyte.gz...\n",
      "Downloading ../../data/module_4/images/train-labels-idx1-ubyte.gz from https://apache-mxnet.s3-accelerate.dualstack.amazonaws.com/gluon/dataset/fashion-mnist/train-labels-idx1-ubyte.gz...\n"
     ]
    }
   ],
   "source": [
    "train_dataset = FashionMNIST(train=True, root=M4_IMAGES).transform_first(transform)\n",
    "test_dataset = FashionMNIST(train=False, root=M4_IMAGES).transform_first(transform)\n",
    "train_dataloader = mx.gluon.data.DataLoader(train_dataset, shuffle=True, batch_size=128)\n",
    "test_dataloader = mx.gluon.data.DataLoader(train_dataset, shuffle=False, batch_size=128)"
   ]
  },
  {
   "cell_type": "markdown",
   "metadata": {},
   "source": [
    "## 2) Metrics\n",
    "\n",
    "In this section, you'll implement a function to test the prediction quality of networks. Using `Accuracy` as the evaluation metric, complete the following function that takes a network and a dataloader (with test data) and returns an MXNet Metric that has been updated with labels and predictions. We'll use this function in the next section, when we train classification networks.\n",
    "\n",
    "**Hint**: You'll find classes in the `mxnet.metric` subpackage useful for this task."
   ]
  },
  {
   "cell_type": "code",
   "execution_count": 15,
   "metadata": {
    "deletable": false,
    "nbgrader": {
     "cell_type": "code",
     "checksum": "648cf62a617935ea6d929c14af92eb8b",
     "grade": false,
     "grade_id": "cell-5fab64bc4b4aa8dc",
     "locked": false,
     "schema_version": 3,
     "solution": true,
     "task": false
    }
   },
   "outputs": [],
   "source": [
    "def calculate_accuracy(network, dataloader):\n",
    "    \"\"\"\n",
    "    Calculates accuracy of the network on the data given by the dataloader.\n",
    "    \n",
    "    :param network: network to be tested\n",
    "    :type network: mx.gluon.Block\n",
    "    :param dataloader: dataloader for test data\n",
    "    :type dataloader: mx.gluon.data.DataLoader\n",
    "    \n",
    "    :return: updated metric\n",
    "    :rtype: mx.metric.EvalMetric\n",
    "    \"\"\"\n",
    "    accuracy = mx.metric.Accuracy()\n",
    "    for data, labels in tqdm(dataloader):\n",
    "        preds = network(data)\n",
    "        accuracy.update(labels,preds)\n",
    "    return accuracy"
   ]
  },
  {
   "cell_type": "code",
   "execution_count": 16,
   "metadata": {
    "deletable": false,
    "editable": false,
    "nbgrader": {
     "cell_type": "code",
     "checksum": "2a5f1bac4bcf9a3e81d52ea269a61070",
     "grade": true,
     "grade_id": "cell-56296ecc0573751e",
     "locked": true,
     "points": 2,
     "schema_version": 3,
     "solution": false,
     "task": false
    }
   },
   "outputs": [
    {
     "output_type": "stream",
     "name": "stderr",
     "text": [
      "100%|██████████| 469/469 [00:08<00:00, 55.18it/s]('accuracy', 0.08005)\n",
      "\n"
     ]
    }
   ],
   "source": [
    "test_network = mx.gluon.nn.Dense(units=10)\n",
    "test_network.initialize()\n",
    "metric = calculate_accuracy(test_network, test_dataloader)\n",
    "print(metric.get())\n",
    "isinstance(metric, mx.metric.EvalMetric)\n",
    "assert metric.name == 'accuracy'\n",
    "assert metric.num_inst == 60000"
   ]
  },
  {
   "cell_type": "markdown",
   "metadata": {
    "deletable": false,
    "editable": false,
    "nbgrader": {
     "cell_type": "markdown",
     "checksum": "cb82044f0fc5c506b7e0ded91ed9b428",
     "grade": false,
     "grade_id": "cell-3f04789a1e05233e",
     "locked": true,
     "schema_version": 3,
     "solution": false,
     "task": false
    }
   },
   "source": [
    "## 3) Network"
   ]
  },
  {
   "cell_type": "markdown",
   "metadata": {},
   "source": [
    "In the section, you'll implement a couple of different image classification networks and train then on the `FashionMNIST` dataset. A `train` function is already provided in this assignment, because the focus will be on network construction."
   ]
  },
  {
   "cell_type": "code",
   "execution_count": 17,
   "metadata": {
    "deletable": false,
    "editable": false,
    "nbgrader": {
     "cell_type": "code",
     "checksum": "77f5bee4daf2e646e8b00a4cb792c9ab",
     "grade": false,
     "grade_id": "cell-027a252196f10f5c",
     "locked": true,
     "schema_version": 3,
     "solution": false,
     "task": false
    }
   },
   "outputs": [],
   "source": [
    "def train(network, dataloader):\n",
    "    softmax_cross_entropy = mx.gluon.loss.SoftmaxCrossEntropyLoss()\n",
    "    trainer = mx.gluon.Trainer(network.collect_params(), 'sgd', {'learning_rate': 0.1})\n",
    "    for data, label in tqdm(dataloader):\n",
    "        with mx.autograd.record():\n",
    "            output = network(data)\n",
    "            loss = softmax_cross_entropy(output, label)\n",
    "        loss.backward()\n",
    "        trainer.step(data.shape[0])"
   ]
  },
  {
   "cell_type": "markdown",
   "metadata": {
    "deletable": false,
    "editable": false,
    "nbgrader": {
     "cell_type": "markdown",
     "checksum": "3d078ccad213eb7f0540c0e0a7f4fd6f",
     "grade": false,
     "grade_id": "cell-8835b94cce73c05b",
     "locked": true,
     "schema_version": 3,
     "solution": false,
     "task": false
    }
   },
   "source": [
    "Your first model should be a sequential network, with 3 layers. You first layer should have 16 hidden units, the second should have 8 hidden units and the last layer should the correct number of output units for the classification task at hand. You should add ReLU activations on all hidden layers, but not the output layer. You should define `network` in the cell below.\n",
    "\n",
    "**Hint**: You'll find classes in the `mxnet.gluon.nn` subpackage useful for this task."
   ]
  },
  {
   "cell_type": "code",
   "execution_count": 18,
   "metadata": {
    "deletable": false,
    "nbgrader": {
     "cell_type": "code",
     "checksum": "d35d987cac115ee0c6fcde1ccf9395ab",
     "grade": false,
     "grade_id": "cell-60d2aed0c10748dc",
     "locked": false,
     "schema_version": 3,
     "solution": true,
     "task": false
    }
   },
   "outputs": [],
   "source": [
    "from mxnet.gluon import nn\n",
    "\n",
    "network = nn.Sequential()\n",
    "\n",
    "network.add(\n",
    "    nn.Dense(16, activation='relu'),\n",
    "    nn.Dense(8, activation='relu'),\n",
    "    nn.Dense(10)\n",
    ")"
   ]
  },
  {
   "cell_type": "code",
   "execution_count": 19,
   "metadata": {
    "deletable": false,
    "editable": false,
    "nbgrader": {
     "cell_type": "code",
     "checksum": "bac44090ed660601c9bb11488e4457e8",
     "grade": true,
     "grade_id": "cell-fab27ff9cbdb32f3",
     "locked": true,
     "points": 2,
     "schema_version": 3,
     "solution": false,
     "task": false
    }
   },
   "outputs": [],
   "source": [
    "assert isinstance(network, mx.gluon.nn.Sequential)\n",
    "assert len(network) == 3\n",
    "assert isinstance(network[0], mx.gluon.nn.Dense)\n",
    "assert network[0].act.name.endswith('relu')\n",
    "assert network[0].weight.shape[0] == 16\n",
    "assert isinstance(network[1], mx.gluon.nn.Dense)\n",
    "assert network[1].act.name.endswith('relu')\n",
    "assert network[1].weight.shape[0] == 8\n",
    "assert isinstance(network[2], mx.gluon.nn.Dense)\n",
    "assert network[2].act is None\n",
    "assert network[2].weight.shape[0] == 10"
   ]
  },
  {
   "cell_type": "markdown",
   "metadata": {
    "deletable": false,
    "editable": false,
    "nbgrader": {
     "cell_type": "markdown",
     "checksum": "a12fc8925d662b2379c9da051c6ad04d",
     "grade": false,
     "grade_id": "cell-0c105c466260d8df",
     "locked": true,
     "schema_version": 3,
     "solution": false,
     "task": false
    }
   },
   "source": [
    "With your network now defined, you should initialize its parameters using the Xavier method in the cell below.\n",
    "\n",
    "**Hint**: You'll find classes in the `mxnet.init` subpackage useful for this task."
   ]
  },
  {
   "cell_type": "code",
   "execution_count": 20,
   "metadata": {
    "deletable": false,
    "nbgrader": {
     "cell_type": "code",
     "checksum": "5034e223765daeb8ff11357a8385621d",
     "grade": false,
     "grade_id": "cell-fa9e3830a921ccc1",
     "locked": false,
     "schema_version": 3,
     "solution": true,
     "task": false
    }
   },
   "outputs": [],
   "source": [
    "from mxnet import init\n",
    "\n",
    "initializer = init.Xavier()\n",
    "network.initialize(initializer)"
   ]
  },
  {
   "cell_type": "code",
   "execution_count": 21,
   "metadata": {
    "deletable": false,
    "editable": false,
    "nbgrader": {
     "cell_type": "code",
     "checksum": "082079014c9879392a59ea4f9ba69b89",
     "grade": true,
     "grade_id": "cell-aab6f8ac1595ddf3",
     "locked": true,
     "points": 1,
     "schema_version": 3,
     "solution": false,
     "task": false
    }
   },
   "outputs": [],
   "source": [
    "assert isinstance(initializer, mx.initializer.Xavier)"
   ]
  },
  {
   "cell_type": "markdown",
   "metadata": {
    "deletable": false,
    "editable": false,
    "nbgrader": {
     "cell_type": "markdown",
     "checksum": "7b66a83fe4f502980f1aa332babea54a",
     "grade": false,
     "grade_id": "cell-71470ca5057ba4e7",
     "locked": true,
     "schema_version": 3,
     "solution": false,
     "task": false
    }
   },
   "source": [
    "We'll now check the network summary and see that the network has 12786 trainable parameters."
   ]
  },
  {
   "cell_type": "code",
   "execution_count": 22,
   "metadata": {
    "deletable": false,
    "editable": false,
    "nbgrader": {
     "cell_type": "code",
     "checksum": "59aea017252d590b7e5f1d59e4997cf6",
     "grade": false,
     "grade_id": "cell-a13e4f389f395b25",
     "locked": true,
     "schema_version": 3,
     "solution": false,
     "task": false
    }
   },
   "outputs": [
    {
     "output_type": "stream",
     "name": "stdout",
     "text": [
      "--------------------------------------------------------------------------------\n        Layer (type)                                Output Shape         Param #\n================================================================================\n               Input                           (1024, 1, 28, 28)               0\n        Activation-1                    <Symbol dense1_relu_fwd>               0\n        Activation-2                                  (1024, 16)               0\n             Dense-3                                  (1024, 16)           12560\n        Activation-4                    <Symbol dense2_relu_fwd>               0\n        Activation-5                                   (1024, 8)               0\n             Dense-6                                   (1024, 8)             136\n             Dense-7                                  (1024, 10)              90\n================================================================================\nParameters in forward computation graph, duplicate included\n   Total params: 12786\n   Trainable params: 12786\n   Non-trainable params: 0\nShared params in forward computation graph: 0\nUnique parameters in model: 12786\n--------------------------------------------------------------------------------\n"
     ]
    }
   ],
   "source": [
    "network.summary(data)"
   ]
  },
  {
   "cell_type": "markdown",
   "metadata": {
    "deletable": false,
    "editable": false,
    "nbgrader": {
     "cell_type": "markdown",
     "checksum": "d5770042162ac6a34dfd0eb57cef562a",
     "grade": false,
     "grade_id": "cell-f23f24b41797c698",
     "locked": true,
     "schema_version": 3,
     "solution": false,
     "task": false
    }
   },
   "source": [
    "And use the `calculate_accuracy` function defined in the previous section to evaluate the performance of this architecture."
   ]
  },
  {
   "cell_type": "code",
   "execution_count": 23,
   "metadata": {
    "deletable": false,
    "editable": false,
    "nbgrader": {
     "cell_type": "code",
     "checksum": "958cb52f6fea4c610ad6fb12b69c9cd6",
     "grade": false,
     "grade_id": "cell-15085d2bbec07611",
     "locked": true,
     "schema_version": 3,
     "solution": false,
     "task": false
    }
   },
   "outputs": [
    {
     "output_type": "stream",
     "name": "stderr",
     "text": [
      "100%|██████████| 469/469 [00:09<00:00, 47.99it/s]\n",
      "100%|██████████| 469/469 [00:08<00:00, 54.51it/s]('accuracy', 0.8182833333333334)\n",
      "\n"
     ]
    }
   ],
   "source": [
    "train(network, train_dataloader)\n",
    "metric = calculate_accuracy(network, test_dataloader)\n",
    "print(metric.get())"
   ]
  },
  {
   "cell_type": "markdown",
   "metadata": {
    "deletable": false,
    "editable": false,
    "nbgrader": {
     "cell_type": "markdown",
     "checksum": "aae608960225ca66817116e7e18a9247",
     "grade": false,
     "grade_id": "cell-b4bb794993da124b",
     "locked": true,
     "schema_version": 3,
     "solution": false,
     "task": false
    }
   },
   "source": [
    "You're final objective in this assignment is to try a different architecture that uses convolutional and max pooling layers. You should define another sequential network, but this time it should have 5 layers in total:\n",
    "\n",
    "1. Convolutional Layer (32 channels, 3x3 kernel and ReLU activation)\n",
    "2. Max Pooling Layer (2x2 kernel and 2x2 stride)\n",
    "3. Convolutional Layer (16 channels, 3x3 kernel and ReLU activation)\n",
    "4. Max Pooling Layer (2x2 kernel and 2x2 stride)\n",
    "5. Dense Layer (10 output units)"
   ]
  },
  {
   "cell_type": "code",
   "execution_count": 24,
   "metadata": {
    "deletable": false,
    "nbgrader": {
     "cell_type": "code",
     "checksum": "a2da3d4d690016aa9b1fddafe7c9f4c5",
     "grade": false,
     "grade_id": "cell-27362e76af20b586",
     "locked": false,
     "schema_version": 3,
     "solution": true,
     "task": false
    }
   },
   "outputs": [
    {
     "output_type": "execute_result",
     "data": {
      "text/plain": [
       "5"
      ]
     },
     "metadata": {},
     "execution_count": 24
    }
   ],
   "source": [
    "network = nn.Sequential()\n",
    "\n",
    "network.add(\n",
    "    nn.Conv2D(32, (3,3), activation='relu'),\n",
    "    nn.MaxPool2D(pool_size=(2, 2), strides=(2,2)),\n",
    "    nn.Conv2D(16, (3,3), activation='relu'),\n",
    "    nn.MaxPool2D(pool_size=(2, 2), strides=(2,2)),\n",
    "    nn.Dense(10)\n",
    ")\n",
    "len(network)"
   ]
  },
  {
   "cell_type": "code",
   "execution_count": 25,
   "metadata": {
    "deletable": false,
    "editable": false,
    "nbgrader": {
     "cell_type": "code",
     "checksum": "658f43b3f172cefd8a416f9143c0cc9a",
     "grade": true,
     "grade_id": "cell-f6d99cca56b03a4c",
     "locked": true,
     "points": 2,
     "schema_version": 3,
     "solution": false,
     "task": false
    }
   },
   "outputs": [],
   "source": [
    "assert isinstance(network, mx.gluon.nn.Sequential)\n",
    "assert len(network) == 5\n",
    "assert isinstance(network[0], mx.gluon.nn.Conv2D)\n",
    "assert network[0].act.name.endswith('relu')\n",
    "assert network[0].weight.shape[0] == 32\n",
    "assert isinstance(network[1], mx.gluon.nn.MaxPool2D)\n",
    "assert isinstance(network[2], mx.gluon.nn.Conv2D)\n",
    "assert network[2].act.name.endswith('relu')\n",
    "assert network[2].weight.shape[0] == 16\n",
    "assert isinstance(network[3], mx.gluon.nn.MaxPool2D)\n",
    "assert isinstance(network[4], mx.gluon.nn.Dense)\n",
    "assert network[4].act is None\n",
    "assert network[4].weight.shape[0] == 10"
   ]
  },
  {
   "cell_type": "markdown",
   "metadata": {
    "deletable": false,
    "editable": false,
    "nbgrader": {
     "cell_type": "markdown",
     "checksum": "59680071ae46fddcb37e07b965fc9dbc",
     "grade": false,
     "grade_id": "cell-7aba8aa6bd98797e",
     "locked": true,
     "schema_version": 3,
     "solution": false,
     "task": false
    }
   },
   "source": [
    "Let's initialize the parameters of the network, and show a summary of the network architecture.\n",
    "\n",
    "With 8954 trainable parameters, this network's got 30% fewer parameters than the previous network."
   ]
  },
  {
   "cell_type": "code",
   "execution_count": 26,
   "metadata": {
    "deletable": false,
    "editable": false,
    "nbgrader": {
     "cell_type": "code",
     "checksum": "226a74a762a411b9a6ec985a7b3b4d02",
     "grade": false,
     "grade_id": "cell-5b9ad1023c066bbe",
     "locked": true,
     "schema_version": 3,
     "solution": false,
     "task": false
    }
   },
   "outputs": [
    {
     "output_type": "stream",
     "name": "stdout",
     "text": [
      "--------------------------------------------------------------------------------\n        Layer (type)                                Output Shape         Param #\n================================================================================\n               Input                           (1024, 1, 28, 28)               0\n        Activation-1                     <Symbol conv0_relu_fwd>               0\n        Activation-2                          (1024, 32, 26, 26)               0\n            Conv2D-3                          (1024, 32, 26, 26)             320\n         MaxPool2D-4                          (1024, 32, 13, 13)               0\n        Activation-5                     <Symbol conv1_relu_fwd>               0\n        Activation-6                          (1024, 16, 11, 11)               0\n            Conv2D-7                          (1024, 16, 11, 11)            4624\n         MaxPool2D-8                            (1024, 16, 5, 5)               0\n             Dense-9                                  (1024, 10)            4010\n================================================================================\nParameters in forward computation graph, duplicate included\n   Total params: 8954\n   Trainable params: 8954\n   Non-trainable params: 0\nShared params in forward computation graph: 0\nUnique parameters in model: 8954\n--------------------------------------------------------------------------------\n"
     ]
    }
   ],
   "source": [
    "network.initialize(init=initializer)\n",
    "network.summary(data)"
   ]
  },
  {
   "cell_type": "markdown",
   "metadata": {
    "deletable": false,
    "editable": false,
    "nbgrader": {
     "cell_type": "markdown",
     "checksum": "9c93f40630de025d96f78ca5df6f8b0a",
     "grade": false,
     "grade_id": "cell-3b2f9d639c371864",
     "locked": true,
     "schema_version": 3,
     "solution": false,
     "task": false
    }
   },
   "source": [
    "And finally, let's evaluate the network performance."
   ]
  },
  {
   "cell_type": "code",
   "execution_count": 27,
   "metadata": {
    "deletable": false,
    "editable": false,
    "nbgrader": {
     "cell_type": "code",
     "checksum": "797450f201e5b58137770b5afbcdde27",
     "grade": false,
     "grade_id": "cell-6a0bbef7dab7fc86",
     "locked": true,
     "schema_version": 3,
     "solution": false,
     "task": false
    }
   },
   "outputs": [
    {
     "output_type": "stream",
     "name": "stderr",
     "text": [
      "100%|██████████| 469/469 [00:09<00:00, 47.84it/s]\n",
      "100%|██████████| 469/469 [00:10<00:00, 45.11it/s]('accuracy', 0.8448833333333333)\n",
      "\n"
     ]
    }
   ],
   "source": [
    "train(network, train_dataloader)\n",
    "metric = calculate_accuracy(network, test_dataloader)\n",
    "print(metric.get())"
   ]
  },
  {
   "cell_type": "markdown",
   "metadata": {
    "deletable": false,
    "editable": false,
    "nbgrader": {
     "cell_type": "markdown",
     "checksum": "daac204b6befa96b9d1ceb3883b7dffb",
     "grade": false,
     "grade_id": "cell-9a3e6f798eaeb49b",
     "locked": true,
     "schema_version": 3,
     "solution": false,
     "task": false
    }
   },
   "source": [
    "We're only training for a single epoch here. You'd expect to get improved accuracy if training for more epochs. "
   ]
  }
 ],
 "metadata": {
  "coursera": {
   "assignment_name": "module_4",
   "assignment_version": 2,
   "course_slug": "aws-computer-vision-gluoncv",
   "graded_item_id": "FoZrl",
   "launcher_item_id": "vcm0m"
  },
  "kernelspec": {
   "display_name": "Python 3",
   "language": "python",
   "name": "python3"
  },
  "language_info": {
   "codemirror_mode": {
    "name": "ipython",
    "version": 3
   },
   "file_extension": ".py",
   "mimetype": "text/x-python",
   "name": "python",
   "nbconvert_exporter": "python",
   "pygments_lexer": "ipython3",
   "version": "3.8.5-final"
  }
 },
 "nbformat": 4,
 "nbformat_minor": 1
}
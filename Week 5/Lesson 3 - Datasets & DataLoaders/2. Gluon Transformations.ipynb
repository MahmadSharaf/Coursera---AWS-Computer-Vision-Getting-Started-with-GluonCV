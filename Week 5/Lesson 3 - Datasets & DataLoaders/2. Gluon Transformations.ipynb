{
 "metadata": {
  "language_info": {
   "codemirror_mode": {
    "name": "ipython",
    "version": 3
   },
   "file_extension": ".py",
   "mimetype": "text/x-python",
   "name": "python",
   "nbconvert_exporter": "python",
   "pygments_lexer": "ipython3",
   "version": "3.8.5-final"
  },
  "orig_nbformat": 2,
  "kernelspec": {
   "name": "python3",
   "display_name": "Python 3"
  }
 },
 "nbformat": 4,
 "nbformat_minor": 2,
 "cells": [
  {
   "cell_type": "code",
   "execution_count": 1,
   "metadata": {},
   "outputs": [],
   "source": [
    "import mxnet as mx\n",
    "from mxnet import gluon, nd"
   ]
  },
  {
   "source": [
    "### Rescaling"
   ],
   "cell_type": "markdown",
   "metadata": {}
  },
  {
   "cell_type": "code",
   "execution_count": 2,
   "metadata": {},
   "outputs": [],
   "source": [
    "# change the scale of the input pixels in the image dataset from between 0 and 255 to between 0 and 1\n",
    "def transform_fn(data, label):\n",
    "    data = data.astype('float32')/255\n",
    "    return data, label\n",
    "\n",
    "# Using the preloaded MNIST dataset in Gluon, we can apply this transformation on the dataset by passing the `transform_fn` function we just created into the `.transform` method of the dataset.\n",
    "train_dataset = gluon.data.vision.datasets.MNIST(train=True).transform(transform_fn)\n",
    "valid_dataset = gluon.data.vision.datasets.MNIST(train=False).transform(transform_fn)"
   ]
  },
  {
   "cell_type": "code",
   "execution_count": 3,
   "metadata": {},
   "outputs": [
    {
     "output_type": "execute_result",
     "data": {
      "text/plain": [
       "\n",
       "[1.]\n",
       "<NDArray 1 @cpu(0)>"
      ]
     },
     "metadata": {},
     "execution_count": 3
    }
   ],
   "source": [
    "#  verify that the transformation has indeed been applied\n",
    "sample_image = train_dataset[19][0]\n",
    "nd.max(sample_image)"
   ]
  },
  {
   "source": [
    "### Vision Transforms\n",
    "\n",
    "The gluon data API has already implemented a number of transformation functions commonly used in computer vision in the `data.vision.transforms` module."
   ],
   "cell_type": "markdown",
   "metadata": {}
  },
  {
   "cell_type": "code",
   "execution_count": 5,
   "metadata": {},
   "outputs": [],
   "source": [
    "from mxnet.gluon.data.vision import transforms"
   ]
  },
  {
   "source": [
    "#### ToTensor\n",
    "\n",
    "Converts an image NDArray of shape (H x W x C) in the range \\[0,255] to float32 tensor NDArray of shape (C x H x W) in the range \\[0,1]\n",
    "\n",
    "One example transform function implemented in `gluon.data.vision.transforms` is the `ToTensor` transformation, which accomplishes the same transformation we manually implemented earlier. The `ToTensor` transformation, in addition to scaling down the image data from \\[0,255] to \\[0,1], also converts the shape of the image data from the image format, which is height times width times channels to tensor format which is channels times height times width. This is because neural network operations like convolutions are much faster in MXNet when the input is in tensor format."
   ],
   "cell_type": "markdown",
   "metadata": {}
  },
  {
   "cell_type": "code",
   "execution_count": 6,
   "metadata": {},
   "outputs": [
    {
     "output_type": "execute_result",
     "data": {
      "text/plain": [
       "(28, 28, 1)"
      ]
     },
     "metadata": {},
     "execution_count": 6
    }
   ],
   "source": [
    "train_dataset = gluon.data.vision.datasets.MNIST(train=True)\n",
    "train_dataset[19][0].shape"
   ]
  },
  {
   "cell_type": "code",
   "execution_count": 7,
   "metadata": {},
   "outputs": [
    {
     "output_type": "execute_result",
     "data": {
      "text/plain": [
       "(1, 28, 28)"
      ]
     },
     "metadata": {},
     "execution_count": 7
    }
   ],
   "source": [
    "# Since each MNIST is a grayscale or single channel square image, we can apply the ToTensor transformation on the dataset by using the .transform_first method of the dataset.\n",
    "# The .transform_first method ensures that the transformation is applied only to the image data portion or the first entry of each data point and not to the label.\n",
    "to_tensor = transforms.ToTensor()\n",
    "train_dataset = train_dataset.transform_first(to_tensor)\n",
    "train_dataset[19][0].shape"
   ]
  },
  {
   "source": [
    "#### Normalize\n",
    "\n",
    "Normalize a tensor of shape (C x H x W) with mean and standard deviation"
   ],
   "cell_type": "markdown",
   "metadata": {}
  },
  {
   "cell_type": "code",
   "execution_count": 8,
   "metadata": {},
   "outputs": [],
   "source": [
    "mean, std = (0.1307,), (0.3081,)\n",
    "normalize = transforms.Normalize(mean, std)\n",
    "train_dataset = train_dataset.transform_first(normalize)"
   ]
  },
  {
   "source": [
    "#### Compose\n",
    "\n",
    "Sequentially compose multiple transforms\n",
    "\n",
    "- The `transforms.compose` class takes in a list of transformations and returns a single transformation that is the result of applying each transformation in the list sequentially.\n",
    "- `transforms.compose` also allows you to create your own custom transformations from predefined Gluon data vision transforms. "
   ],
   "cell_type": "markdown",
   "metadata": {}
  },
  {
   "cell_type": "code",
   "execution_count": 9,
   "metadata": {},
   "outputs": [],
   "source": [
    "transform_fn = transforms.Compose([transforms.ToTensor(), transforms.Normalize(mean, std)])"
   ]
  },
  {
   "cell_type": "code",
   "execution_count": 10,
   "metadata": {},
   "outputs": [],
   "source": [
    "train_dataset = gluon.data.vision.datasets.MNIST(train=True).transform(transform_fn)"
   ]
  },
  {
   "source": [
    "#### Data Augmentation via Transformations\n",
    "\n",
    "Transformations can also be used to apply augmentation on the dataset to artificially introduce diversity to the training data, reduce model overfitting, and improve how the model generalizes to unseen data. Some transformations can augment the dataset by randomly or deterministically adjusting the dataset samples.\n",
    "\n",
    "Some other transforms provided by Gluon include:\n",
    "- `transforms.Resize`\n",
    "- `transforms.CenterCrop`\n",
    "- `transforms.RandomResizedCrop`\n",
    "- `transforms.RandomFlipLeftRight`\n",
    "- `transforms.RandomBrightness`"
   ],
   "cell_type": "markdown",
   "metadata": {}
  }
 ]
}